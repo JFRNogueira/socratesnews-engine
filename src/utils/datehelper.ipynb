{
 "cells": [
  {
   "cell_type": "code",
   "execution_count": 23,
   "metadata": {},
   "outputs": [],
   "source": [
    "import datetime\n",
    "import ipywidgets as widgets\n",
    "from IPython.display import display, clear_output\n",
    "import time\n",
    "import asyncio"
   ]
  },
  {
   "cell_type": "code",
   "execution_count": 24,
   "metadata": {},
   "outputs": [],
   "source": [
    "class DateHelpers:\n",
    "    \n",
    "    def __init__(self):\n",
    "        self.date = None\n",
    "        self.date_str = \"\"\n",
    "        self.output_area = widgets.Output()\n",
    "        self.select_date()\n",
    "\n",
    "    def data_por_extenso(self, dia, mes, ano):\n",
    "        dias_da_semana = ['Segunda-feira', 'Terça-feira', 'Quarta-feira', 'Quinta-feira', 'Sexta-feira', 'Sábado', 'Domingo']\n",
    "        meses_do_ano = ['janeiro', 'fevereiro', 'março', 'abril', 'maio', 'junho', 'julho', 'agosto', 'setembro', 'outubro', 'novembro', 'dezembro']\n",
    "\n",
    "        data = datetime.datetime(ano, mes, dia)\n",
    "        dia_da_semana = dias_da_semana[data.weekday()]\n",
    "        mes_extenso = meses_do_ano[mes - 1]\n",
    "        data_formatada = f\"{dia_da_semana}, {dia} de {mes_extenso} de {ano}\"\n",
    "        return data_formatada\n",
    "    \n",
    "    def select_date(self):\n",
    "        today = datetime.datetime.today()\n",
    "\n",
    "        self.date_picker = widgets.DatePicker(\n",
    "            description='Escolha a data:',\n",
    "            value=today,\n",
    "            disabled=False\n",
    "        )\n",
    "\n",
    "        self.submit_button = widgets.Button(\n",
    "            description='Iniciar',\n",
    "            button_style='success',\n",
    "            tooltip='Clique para confirmar a data selecionada',\n",
    "            icon='check'\n",
    "        )\n",
    "\n",
    "        self.submit_button.on_click(self.on_submit_button_click)\n",
    "\n",
    "        # Exibir os widgets\n",
    "        display(self.date_picker, self.submit_button, self.output_area)\n",
    "\n",
    "    def on_submit_button_click(self, b):\n",
    "        # Esta função é chamada quando o botão é clicado\n",
    "        with self.output_area:\n",
    "            clear_output()\n",
    "            self.date = self.date_picker.value\n",
    "            if self.date:\n",
    "                self.date_str = self.data_por_extenso(self.date.day, self.date.month, self.date.year)\n",
    "                print(f\"Edição de {self.date_str}\")\n",
    "            else:\n",
    "                print(\"Nenhuma data foi selecionada.\")"
   ]
  }
 ],
 "metadata": {
  "kernelspec": {
   "display_name": "Python 3",
   "language": "python",
   "name": "python3"
  },
  "language_info": {
   "codemirror_mode": {
    "name": "ipython",
    "version": 3
   },
   "file_extension": ".py",
   "mimetype": "text/x-python",
   "name": "python",
   "nbconvert_exporter": "python",
   "pygments_lexer": "ipython3",
   "version": "3.12.0"
  }
 },
 "nbformat": 4,
 "nbformat_minor": 2
}
