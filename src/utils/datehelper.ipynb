{
 "cells": [
  {
   "cell_type": "code",
   "execution_count": 10,
   "metadata": {},
   "outputs": [],
   "source": [
    "import datetime\n",
    "import locale\n"
   ]
  },
  {
   "cell_type": "code",
   "execution_count": 21,
   "metadata": {},
   "outputs": [
    {
     "name": "stdout",
     "output_type": "stream",
     "text": [
      "Hoje é dia Quarta-feira, 21 de agosto de 2024\n",
      "\n",
      "Data selecionada: 28/11/1991\n",
      "Quinta-feira, 28 de novembro de 1991\n"
     ]
    }
   ],
   "source": [
    "class DateHelpers:\n",
    "    \n",
    "    def __init__(self):\n",
    "        self.date = self.select_date()\n",
    "        self.date_str = self.data_por_extenso(self.date.day, self.date.month, self.date.year)\n",
    "        \n",
    "    def data_por_extenso(self, dia, mes, ano):\n",
    "        locale.setlocale(locale.LC_TIME, 'pt_BR.UTF-8')\n",
    "        data = datetime.datetime(ano, mes, dia)\n",
    "        data_formatada = data.strftime('%A, %d de %B de %Y')\n",
    "        data_formatada = data_formatada.capitalize()\n",
    "        return data_formatada\n",
    "    \n",
    "    def select_date(self):\n",
    "        today = datetime.datetime.today()\n",
    "        isToday = input(f'Deseja usar a data de hoje({self.data_por_extenso(today.day, today.month, today.year)})? (s/n): ')\n",
    "        if isToday.lower() == 's':\n",
    "            return today\n",
    "        if isToday.lower() == 'n':\n",
    "            dia = int(input('Digite o dia (apenas número): '))\n",
    "            mes = int(input('Digite o mês (apenas número): '))\n",
    "            ano = int(input('Digite o ano (apenas número): '))\n",
    "            return datetime.datetime(ano, mes, dia)\n",
    "        \n"
   ]
  }
 ],
 "metadata": {
  "kernelspec": {
   "display_name": "Python 3",
   "language": "python",
   "name": "python3"
  },
  "language_info": {
   "codemirror_mode": {
    "name": "ipython",
    "version": 3
   },
   "file_extension": ".py",
   "mimetype": "text/x-python",
   "name": "python",
   "nbconvert_exporter": "python",
   "pygments_lexer": "ipython3",
   "version": "3.12.0"
  }
 },
 "nbformat": 4,
 "nbformat_minor": 2
}
