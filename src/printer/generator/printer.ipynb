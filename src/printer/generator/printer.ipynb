{
 "cells": [
  {
   "cell_type": "code",
   "execution_count": 24,
   "metadata": {},
   "outputs": [
    {
     "name": "stderr",
     "output_type": "stream",
     "text": [
      "<>:26: SyntaxWarning: invalid escape sequence '\\e'\n",
      "<>:26: SyntaxWarning: invalid escape sequence '\\e'\n",
      "C:\\Users\\johan\\AppData\\Local\\Temp\\ipykernel_7932\\1403525341.py:26: SyntaxWarning: invalid escape sequence '\\e'\n",
      "  content += '''\\n\\n\\n\n"
     ]
    },
    {
     "name": "stdout",
     "output_type": "stream",
     "text": [
      "PDF gerado com sucesso.\n"
     ]
    }
   ],
   "source": [
    "import subprocess\n",
    "import os\n",
    "\n",
    "\n",
    "def get_tex_file(filename):\n",
    "    with open(filename, 'r', encoding='utf-8') as f:\n",
    "        return f.read()\n",
    "\n",
    "\n",
    "def create_tex_file(src, filename):\n",
    "    with open(filename, 'w', encoding='utf-8') as f:\n",
    "        f.write(src)\n",
    "    \n",
    "\n",
    "def generate_pdf_page_01():\n",
    "    \n",
    "    content = \"\"\n",
    "    content += get_tex_file('libs.tex')\n",
    "    content += get_tex_file('parameters.tex')\n",
    "    content += get_tex_file('textstyles.tex')\n",
    "    content += get_tex_file('frontpageheader.tex')\n",
    "    content += get_tex_file('frontpagefooter.tex')\n",
    "    content += get_tex_file('frontpagenews.tex')\n",
    "    \n",
    "    # Adicionar vários parágrafos de texto\n",
    "    content += '''\\n\\n\\n\n",
    "\\\\begin{document}\n",
    "\\\\thispagestyle{empty}\n",
    "\\\\frontpageheader\n",
    "\\\\newsone{}{Este é um trecho de texto em destaque, com letras maiores e em negrito.}{\\\\lipsum[1-2]}\n",
    "\\\\newstwo{images/image1.jpg}{Política - p.5}{Este é um trecho de texto em destaque, com letras maiores e em negrito.}\n",
    "\\\\newsthree{images/image1.jpg}{Política - p.5}{Este é um trecho de texto em destaque, com letras maiores e em negrito.}\n",
    "\\\\frontpagefooter\n",
    "\\end{document}\n",
    "\\n\\n\\n'''\n",
    "    \n",
    "    \n",
    "    create_tex_file(content, 'page_01.tex')\n",
    "    \n",
    "    # Nome do arquivo .tex\n",
    "    tex_file = \"page_01.tex\"\n",
    "    \n",
    "    # Verifica se o arquivo .tex existe no diretório atual\n",
    "    if not os.path.exists(tex_file):\n",
    "        print(f\"O arquivo {tex_file} não foi encontrado no diretório atual.\")\n",
    "        return\n",
    "    \n",
    "    # Comando para compilar o arquivo .tex usando pdflatex\n",
    "    command = [\"pdflatex\", \"-interaction=nonstopmode\", tex_file]\n",
    "    \n",
    "    try:\n",
    "        # Executa o comando pdflatex\n",
    "        subprocess.run(command, check=True)\n",
    "        print(\"PDF gerado com sucesso.\")\n",
    "    except subprocess.CalledProcessError as e:\n",
    "        print(f\"Houve um erro ao gerar o PDF: {e}\")\n",
    "\n",
    "if __name__ == \"__main__\":\n",
    "    generate_pdf_page_01()\n"
   ]
  }
 ],
 "metadata": {
  "kernelspec": {
   "display_name": "Python 3",
   "language": "python",
   "name": "python3"
  },
  "language_info": {
   "codemirror_mode": {
    "name": "ipython",
    "version": 3
   },
   "file_extension": ".py",
   "mimetype": "text/x-python",
   "name": "python",
   "nbconvert_exporter": "python",
   "pygments_lexer": "ipython3",
   "version": "3.12.0"
  }
 },
 "nbformat": 4,
 "nbformat_minor": 2
}
