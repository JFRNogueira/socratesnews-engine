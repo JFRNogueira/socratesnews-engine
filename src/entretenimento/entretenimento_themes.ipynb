{
 "cells": [
  {
   "cell_type": "code",
   "execution_count": 7,
   "metadata": {},
   "outputs": [],
   "source": [
    "import requests\n",
    "from bs4 import BeautifulSoup"
   ]
  },
  {
   "cell_type": "code",
   "execution_count": 9,
   "metadata": {},
   "outputs": [],
   "source": [
    "class EntretenimentoThemes:\n",
    "    \n",
    "    def __init__(self):\n",
    "        self.themes = self.get_themes()\n",
    "\n",
    "\n",
    "        \n",
    "    def get_html(self, url):\n",
    "        browsers = {'User-Agent': \"Mozilla/5.0 (Windows NT 10.0; Win64; x64) AppleWebKit/537.36 (KHTML, like Gecko) Chrome / 86.0.4240.198Safari / 537.36\"}\n",
    "        html_content = requests.get(url, headers=browsers)\n",
    "        soup = BeautifulSoup(html_content.text, 'html.parser')\n",
    "        return soup\n",
    "\n",
    "\n",
    "    \n",
    "    def get_themes(self):\n",
    "        soup = self.get_html(\"https://news.google.com/topics/CAAqKggKIiRDQkFTRlFvSUwyMHZNREpxYW5RU0JYQjBMVUpTR2dKQ1VpZ0FQAQ?hl=pt-BR&gl=BR&ceid=BR%3Apt-419\")\n",
    "        news_blocks = soup.find_all(class_='PO9Zff Ccj79 kUVvS')\n",
    "        result = []\n",
    "        for nb in news_blocks:\n",
    "            try:\n",
    "                title = nb.find('a', class_='gPFEn').get_text()\n",
    "                all_news = 'https://news.google.com' + nb.find('div', class_='Ylktk').find('a').get('href')[1:]\n",
    "                result.append({'title': title, 'url': all_news})\n",
    "            except:\n",
    "                pass\n",
    "        return result\n",
    "\n",
    "\n",
    "\n"
   ]
  }
 ],
 "metadata": {
  "kernelspec": {
   "display_name": "Python 3",
   "language": "python",
   "name": "python3"
  },
  "language_info": {
   "codemirror_mode": {
    "name": "ipython",
    "version": 3
   },
   "file_extension": ".py",
   "mimetype": "text/x-python",
   "name": "python",
   "nbconvert_exporter": "python",
   "pygments_lexer": "ipython3",
   "version": "3.12.0"
  }
 },
 "nbformat": 4,
 "nbformat_minor": 2
}
