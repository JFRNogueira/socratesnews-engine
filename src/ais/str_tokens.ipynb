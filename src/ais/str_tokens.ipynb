{
 "cells": [
  {
   "cell_type": "code",
   "execution_count": 14,
   "metadata": {},
   "outputs": [],
   "source": [
    "import pandas as pd\n",
    "from sklearn.feature_extraction.text import TfidfVectorizer\n",
    "from sklearn.decomposition import LatentDirichletAllocation\n",
    "from sklearn.cluster import KMeans\n",
    "import nltk\n",
    "from nltk.corpus import stopwords\n",
    "import re\n",
    "from unidecode import unidecode"
   ]
  },
  {
   "cell_type": "code",
   "execution_count": 18,
   "metadata": {},
   "outputs": [
    {
     "name": "stderr",
     "output_type": "stream",
     "text": [
      "[nltk_data] Downloading package stopwords to\n",
      "[nltk_data]     C:\\Users\\johan\\AppData\\Roaming\\nltk_data...\n",
      "[nltk_data]   Package stopwords is already up-to-date!\n"
     ]
    },
    {
     "ename": "InvalidParameterError",
     "evalue": "The 'stop_words' parameter of TfidfVectorizer must be a str among {'english'}, an instance of 'list' or None. Got {'se', 'estas', 'houverei', 'tua', 'essa', 'o', 'serão', 'hajamos', 'tivéramos', 'tínhamos', 'teremos', 'teus', 'houveríamos', 'sejam', 'mais', 'sem', 'estejam', 'aqueles', 'houveremos', 'tenham', 'terei', 'seja', 'isso', 'meus', 'seus', 'tive', 'tivemos', 'hão', 'fui', 'esteja', 'entre', 'meu', 'estivesse', 'na', 'estive', 'nossas', 'estiver', 'às', 'à', 'esses', 'esta', 'dele', 'te', 'de', 'estejamos', 'estivéramos', 'tuas', 'há', 'aquilo', 'for', 'esse', 'estamos', 'era', 'qual', 'quem', 'fora', 'houverem', 'fossem', 'tinham', 'será', 'nosso', 'teria', 'dos', 'tiveram', 'são', 'estivéssemos', 'terão', 'seu', 'as', 'houvera', 'também', 'vos', 'foram', 'nos', 'tenhamos', 'tivéssemos', 'este', 'havemos', 'houvéssemos', 'não', 'você', 'essas', 'eu', 'nossos', 'tiver', 'fosse', 'formos', 'nas', 'nós', 'sejamos', 'eles', 'pelas', 'teu', 'mesmo', 'tivessem', 'houveria', 'vocês', 'estar', 'estes', 'terá', 'deles', 'fôramos', 'pelo', 'aquelas', 'no', 'do', 'é', 'aos', 'houve', 'dela', 'minha', 'com', 'em', 'estão', 'por', 'isto', 'serei', 'teríamos', 'muito', 'hei', 'houvermos', 'eram', 'pelos', 'e', 'estava', 'seremos', 'estiveram', 'houverá', 'suas', 'ao', 'ele', 'delas', 'tinha', 'tivermos', 'estivessem', 'éramos', 'uma', 'tu', 'houvemos', 'nem', 'estou', 'houver', 'seríamos', 'ou', 'sou', 'fôssemos', 'haja', 'somos', 'a', 'elas', 'nossa', 'houveriam', 'houvéramos', 'ser', 'houverão', 'numa', 'seriam', 'aquela', 'mas', 'já', 'tenho', 'estávamos', 'estivemos', 'me', 'só', 'até', 'estivermos', 'esteve', 'quando', 'seria', 'lhes', 'que', 'tém', 'um', 'minhas', 'da', 'como', 'num', 'forem', 'depois', 'houvessem', 'tem', 'das', 'estiverem', 'ela', 'para', 'sua', 'tivesse', 'fomos', 'haver', 'tenha', 'teriam', 'pela', 'houveram', 'lhe', 'temos', 'teve', 'tiverem', 'aquele', 'estavam', 'foi', 'tivera', 'está', 'hajam', 'estivera', 'os', 'houvesse'} instead.",
     "output_type": "error",
     "traceback": [
      "\u001b[1;31m---------------------------------------------------------------------------\u001b[0m",
      "\u001b[1;31mInvalidParameterError\u001b[0m                     Traceback (most recent call last)",
      "\u001b[1;32mc:\\jn\\news\\socratesnews-engine\\src\\ais\\str_tokens.ipynb Célula 2\u001b[0m line \u001b[0;36m2\n\u001b[0;32m     <a href='vscode-notebook-cell:/c%3A/jn/news/socratesnews-engine/src/ais/str_tokens.ipynb#W1sZmlsZQ%3D%3D?line=15'>16</a>\u001b[0m texts \u001b[39m=\u001b[39m [\n\u001b[0;32m     <a href='vscode-notebook-cell:/c%3A/jn/news/socratesnews-engine/src/ais/str_tokens.ipynb#W1sZmlsZQ%3D%3D?line=16'>17</a>\u001b[0m \u001b[39m'\u001b[39m\u001b[39mInvestimento de príncipe árabe Neste domingo (18), o Vasco enfrenta o Criciúma pela 23ª rodada do Brasileirão Série A no Heriberto Hülse e uma vitória é importante para o Cruz-Maltino seguir na primeira página da tabela. © Thiago Ribeiro/AGIFPedrinho, presidente do Cruz-Maltino, negocia acordo nos bastidores. Cruzeiro bate Atlético-MG por 2 a 0 e aumenta tabu do clássicoPalmeiras empata com o Cruzeiro em 1 a 1 e é campeão brasileiro O time de Rafael Paiva vem de uma vitória contra o Fluminense e quer seguir neste bom momento. A partida contra o Criciúma vai ter transmissão em tempo real do Bolavip Brasil. Já nos bastidores, o presidente Pedrinho negocia a venda das ações da SAF que pertencem a A-CAP, seguradora que assumiu o controle da 777 Partners. A Crefisa está fora do negócio, mas o Cruz-Maltino tem conversas avançadas com o Fundo de Investimento da Arábia Saudita. Aporte financeiro em R$ 400 milhões O jornalista Fabio Azevedo informou que o novo sócio do Vasco vai precisar assumir o contrato que era com a 777 Partners e compraria a parte que seria aportada pela A-CAP. O comunicador explicou que R$ 310 milhões foram aportados e o novo parceiro do Vascão pagaria esse valor com correção. Dependeria das cifras pedidas pela A-CAP, mas poderia chegar em R$ 500 milhões. Vasco deve vender a SAF aos árabes?Vasco deve vender a SAF aos árabes?0 PESSOAS JÁ VOTARAM No contrato com a 777 Partners, a empresa teria que fazer mais dois aportes financeiros ao Clube Carioca e o Fundo Saudita assumiria esse pagamento. Em setembro de 2024, R$ 280 milhões e no ano que vem em R$ 120 milhões. Venda pode ser confirmada em outubro O líder do fundo de investimento saudita é o príncipe Mohammad bin Salman e os árabes vem fazendo grandes investimentos no futebol. Recentemente, eles compraram o Newcastle, da Inglaterra. Veja tambémAtacante recusa oferta e Vasco de Pedrinho tem negócio com Anderlecht cancelado Além disso, os sauditas estão aportando grandes valores para fazer crescer o futebol local de olho na Copa do Mundo de 2034. A liga adquiriu recentemente contratou nomes como Cristiano Ronaldo e Neymar, além de ter feito oferta ao Vinícius Júnior, do Real Madrid. A ideia dos árabes é tocar a parte financeira do Cruz-Maltino e deixar a gestão do futebol para Pedrinho, segundo o jornalista Fabio Azevedo. Foi especulado que o dono do Chelsea poderia comprar o Vasco, mas o príncipe Mohammad bin Salman é quem tem conversas mais avançadas e acordo pode ser fechado até outubro. O que dizem os torcedores?, \u001b[39m\u001b[39m'\u001b[39m,\n\u001b[0;32m     <a href='vscode-notebook-cell:/c%3A/jn/news/socratesnews-engine/src/ais/str_tokens.ipynb#W1sZmlsZQ%3D%3D?line=17'>18</a>\u001b[0m \u001b[39m'\u001b[39m\u001b[39mCriciúma e Vasco se enfrentam hoje (18), às 16h (de Brasília), no Heriberto Hülse, pela 23ª rodada do Campeonato Brasileiro. Onde assistir ao jogo? TV Globo (RJ, SC, ES, PB e as cidades mineiras de Coronel Fabriciano, Juiz de Fora e Montes Claros) e Premiere (pay-per-view) transmitem a partida. O Vasco é o décimo colocado do Brasileirão, com 27 pontos. Já o Criciúma tem 24 pontos, na 15ª posição, e quer se afastar da zona de rebaixamento., \u001b[39m\u001b[39m'\u001b[39m,\n\u001b[1;32m   (...)\u001b[0m\n\u001b[0;32m     <a href='vscode-notebook-cell:/c%3A/jn/news/socratesnews-engine/src/ais/str_tokens.ipynb#W1sZmlsZQ%3D%3D?line=20'>21</a>\u001b[0m \u001b[39m'\u001b[39m\u001b[39mCriciúma e Vasco se enfrentam na tarde deste domingo, dia 18 de agosto, às 16h (horário de Brasília), em jogo válido pela 22ª rodada do Campeonato Brasileiro. A partida ocorre no estádio Heriberto Hülse, na cidade de Criciúma. PUBLICIDADE Após vencer o Fortaleza na última rodada, a equipe comandada por Cláudio Tencati busca se manter fora do Z-4 e ampliar a vantagem para os últimos colocados. O lateral-esquerdo Marcelo Hermes, suspenso após o terceiro cartão amarelo, não joga. Do outro lado do campo, a equipe carioca vem de uma importante vitória contra o Fluminense no clássico dos Gigantes. O time de Rafael Paiva, no entanto, não contará com uma das principais referências do clube. O atacante Pablo Vegetti, com dores na coxa, será poupado. Publicidade, \u001b[39m\u001b[39m'\u001b[39m,\n\u001b[0;32m     <a href='vscode-notebook-cell:/c%3A/jn/news/socratesnews-engine/src/ais/str_tokens.ipynb#W1sZmlsZQ%3D%3D?line=21'>22</a>\u001b[0m ]\n\u001b[0;32m     <a href='vscode-notebook-cell:/c%3A/jn/news/socratesnews-engine/src/ais/str_tokens.ipynb#W1sZmlsZQ%3D%3D?line=23'>24</a>\u001b[0m vectorizer \u001b[39m=\u001b[39m TfidfVectorizer(max_df\u001b[39m=\u001b[39m\u001b[39m0.9\u001b[39m, min_df\u001b[39m=\u001b[39m\u001b[39m2\u001b[39m, stop_words\u001b[39m=\u001b[39mstop_words)\n\u001b[1;32m---> <a href='vscode-notebook-cell:/c%3A/jn/news/socratesnews-engine/src/ais/str_tokens.ipynb#W1sZmlsZQ%3D%3D?line=24'>25</a>\u001b[0m tfidf_matrix \u001b[39m=\u001b[39m vectorizer\u001b[39m.\u001b[39;49mfit_transform(texts)\n\u001b[0;32m     <a href='vscode-notebook-cell:/c%3A/jn/news/socratesnews-engine/src/ais/str_tokens.ipynb#W1sZmlsZQ%3D%3D?line=26'>27</a>\u001b[0m num_clusters \u001b[39m=\u001b[39m \u001b[39m5\u001b[39m  \u001b[39m# Escolha o número de clusters desejado\u001b[39;00m\n\u001b[0;32m     <a href='vscode-notebook-cell:/c%3A/jn/news/socratesnews-engine/src/ais/str_tokens.ipynb#W1sZmlsZQ%3D%3D?line=27'>28</a>\u001b[0m km_model \u001b[39m=\u001b[39m KMeans(n_clusters\u001b[39m=\u001b[39mnum_clusters)\n",
      "File \u001b[1;32mc:\\Users\\johan\\AppData\\Local\\Programs\\Python\\Python312\\Lib\\site-packages\\sklearn\\feature_extraction\\text.py:2138\u001b[0m, in \u001b[0;36mTfidfVectorizer.fit_transform\u001b[1;34m(self, raw_documents, y)\u001b[0m\n\u001b[0;32m   2131\u001b[0m \u001b[39mself\u001b[39m\u001b[39m.\u001b[39m_check_params()\n\u001b[0;32m   2132\u001b[0m \u001b[39mself\u001b[39m\u001b[39m.\u001b[39m_tfidf \u001b[39m=\u001b[39m TfidfTransformer(\n\u001b[0;32m   2133\u001b[0m     norm\u001b[39m=\u001b[39m\u001b[39mself\u001b[39m\u001b[39m.\u001b[39mnorm,\n\u001b[0;32m   2134\u001b[0m     use_idf\u001b[39m=\u001b[39m\u001b[39mself\u001b[39m\u001b[39m.\u001b[39muse_idf,\n\u001b[0;32m   2135\u001b[0m     smooth_idf\u001b[39m=\u001b[39m\u001b[39mself\u001b[39m\u001b[39m.\u001b[39msmooth_idf,\n\u001b[0;32m   2136\u001b[0m     sublinear_tf\u001b[39m=\u001b[39m\u001b[39mself\u001b[39m\u001b[39m.\u001b[39msublinear_tf,\n\u001b[0;32m   2137\u001b[0m )\n\u001b[1;32m-> 2138\u001b[0m X \u001b[39m=\u001b[39m \u001b[39msuper\u001b[39;49m()\u001b[39m.\u001b[39;49mfit_transform(raw_documents)\n\u001b[0;32m   2139\u001b[0m \u001b[39mself\u001b[39m\u001b[39m.\u001b[39m_tfidf\u001b[39m.\u001b[39mfit(X)\n\u001b[0;32m   2140\u001b[0m \u001b[39m# X is already a transformed view of raw_documents so\u001b[39;00m\n\u001b[0;32m   2141\u001b[0m \u001b[39m# we set copy to False\u001b[39;00m\n",
      "File \u001b[1;32mc:\\Users\\johan\\AppData\\Local\\Programs\\Python\\Python312\\Lib\\site-packages\\sklearn\\base.py:1467\u001b[0m, in \u001b[0;36m_fit_context.<locals>.decorator.<locals>.wrapper\u001b[1;34m(estimator, *args, **kwargs)\u001b[0m\n\u001b[0;32m   1462\u001b[0m partial_fit_and_fitted \u001b[39m=\u001b[39m (\n\u001b[0;32m   1463\u001b[0m     fit_method\u001b[39m.\u001b[39m\u001b[39m__name__\u001b[39m \u001b[39m==\u001b[39m \u001b[39m\"\u001b[39m\u001b[39mpartial_fit\u001b[39m\u001b[39m\"\u001b[39m \u001b[39mand\u001b[39;00m _is_fitted(estimator)\n\u001b[0;32m   1464\u001b[0m )\n\u001b[0;32m   1466\u001b[0m \u001b[39mif\u001b[39;00m \u001b[39mnot\u001b[39;00m global_skip_validation \u001b[39mand\u001b[39;00m \u001b[39mnot\u001b[39;00m partial_fit_and_fitted:\n\u001b[1;32m-> 1467\u001b[0m     estimator\u001b[39m.\u001b[39;49m_validate_params()\n\u001b[0;32m   1469\u001b[0m \u001b[39mwith\u001b[39;00m config_context(\n\u001b[0;32m   1470\u001b[0m     skip_parameter_validation\u001b[39m=\u001b[39m(\n\u001b[0;32m   1471\u001b[0m         prefer_skip_nested_validation \u001b[39mor\u001b[39;00m global_skip_validation\n\u001b[0;32m   1472\u001b[0m     )\n\u001b[0;32m   1473\u001b[0m ):\n\u001b[0;32m   1474\u001b[0m     \u001b[39mreturn\u001b[39;00m fit_method(estimator, \u001b[39m*\u001b[39margs, \u001b[39m*\u001b[39m\u001b[39m*\u001b[39mkwargs)\n",
      "File \u001b[1;32mc:\\Users\\johan\\AppData\\Local\\Programs\\Python\\Python312\\Lib\\site-packages\\sklearn\\base.py:666\u001b[0m, in \u001b[0;36mBaseEstimator._validate_params\u001b[1;34m(self)\u001b[0m\n\u001b[0;32m    658\u001b[0m \u001b[39mdef\u001b[39;00m \u001b[39m_validate_params\u001b[39m(\u001b[39mself\u001b[39m):\n\u001b[0;32m    659\u001b[0m \u001b[39m    \u001b[39m\u001b[39m\"\"\"Validate types and values of constructor parameters\u001b[39;00m\n\u001b[0;32m    660\u001b[0m \n\u001b[0;32m    661\u001b[0m \u001b[39m    The expected type and values must be defined in the `_parameter_constraints`\u001b[39;00m\n\u001b[1;32m   (...)\u001b[0m\n\u001b[0;32m    664\u001b[0m \u001b[39m    accepted constraints.\u001b[39;00m\n\u001b[0;32m    665\u001b[0m \u001b[39m    \"\"\"\u001b[39;00m\n\u001b[1;32m--> 666\u001b[0m     validate_parameter_constraints(\n\u001b[0;32m    667\u001b[0m         \u001b[39mself\u001b[39;49m\u001b[39m.\u001b[39;49m_parameter_constraints,\n\u001b[0;32m    668\u001b[0m         \u001b[39mself\u001b[39;49m\u001b[39m.\u001b[39;49mget_params(deep\u001b[39m=\u001b[39;49m\u001b[39mFalse\u001b[39;49;00m),\n\u001b[0;32m    669\u001b[0m         caller_name\u001b[39m=\u001b[39;49m\u001b[39mself\u001b[39;49m\u001b[39m.\u001b[39;49m\u001b[39m__class__\u001b[39;49m\u001b[39m.\u001b[39;49m\u001b[39m__name__\u001b[39;49m,\n\u001b[0;32m    670\u001b[0m     )\n",
      "File \u001b[1;32mc:\\Users\\johan\\AppData\\Local\\Programs\\Python\\Python312\\Lib\\site-packages\\sklearn\\utils\\_param_validation.py:95\u001b[0m, in \u001b[0;36mvalidate_parameter_constraints\u001b[1;34m(parameter_constraints, params, caller_name)\u001b[0m\n\u001b[0;32m     89\u001b[0m \u001b[39melse\u001b[39;00m:\n\u001b[0;32m     90\u001b[0m     constraints_str \u001b[39m=\u001b[39m (\n\u001b[0;32m     91\u001b[0m         \u001b[39mf\u001b[39m\u001b[39m\"\u001b[39m\u001b[39m{\u001b[39;00m\u001b[39m'\u001b[39m\u001b[39m, \u001b[39m\u001b[39m'\u001b[39m\u001b[39m.\u001b[39mjoin([\u001b[39mstr\u001b[39m(c)\u001b[39m \u001b[39m\u001b[39mfor\u001b[39;00m\u001b[39m \u001b[39mc\u001b[39m \u001b[39m\u001b[39min\u001b[39;00m\u001b[39m \u001b[39mconstraints[:\u001b[39m-\u001b[39m\u001b[39m1\u001b[39m]])\u001b[39m}\u001b[39;00m\u001b[39m or\u001b[39m\u001b[39m\"\u001b[39m\n\u001b[0;32m     92\u001b[0m         \u001b[39mf\u001b[39m\u001b[39m\"\u001b[39m\u001b[39m \u001b[39m\u001b[39m{\u001b[39;00mconstraints[\u001b[39m-\u001b[39m\u001b[39m1\u001b[39m]\u001b[39m}\u001b[39;00m\u001b[39m\"\u001b[39m\n\u001b[0;32m     93\u001b[0m     )\n\u001b[1;32m---> 95\u001b[0m \u001b[39mraise\u001b[39;00m InvalidParameterError(\n\u001b[0;32m     96\u001b[0m     \u001b[39mf\u001b[39m\u001b[39m\"\u001b[39m\u001b[39mThe \u001b[39m\u001b[39m{\u001b[39;00mparam_name\u001b[39m!r}\u001b[39;00m\u001b[39m parameter of \u001b[39m\u001b[39m{\u001b[39;00mcaller_name\u001b[39m}\u001b[39;00m\u001b[39m must be\u001b[39m\u001b[39m\"\u001b[39m\n\u001b[0;32m     97\u001b[0m     \u001b[39mf\u001b[39m\u001b[39m\"\u001b[39m\u001b[39m \u001b[39m\u001b[39m{\u001b[39;00mconstraints_str\u001b[39m}\u001b[39;00m\u001b[39m. Got \u001b[39m\u001b[39m{\u001b[39;00mparam_val\u001b[39m!r}\u001b[39;00m\u001b[39m instead.\u001b[39m\u001b[39m\"\u001b[39m\n\u001b[0;32m     98\u001b[0m )\n",
      "\u001b[1;31mInvalidParameterError\u001b[0m: The 'stop_words' parameter of TfidfVectorizer must be a str among {'english'}, an instance of 'list' or None. Got {'se', 'estas', 'houverei', 'tua', 'essa', 'o', 'serão', 'hajamos', 'tivéramos', 'tínhamos', 'teremos', 'teus', 'houveríamos', 'sejam', 'mais', 'sem', 'estejam', 'aqueles', 'houveremos', 'tenham', 'terei', 'seja', 'isso', 'meus', 'seus', 'tive', 'tivemos', 'hão', 'fui', 'esteja', 'entre', 'meu', 'estivesse', 'na', 'estive', 'nossas', 'estiver', 'às', 'à', 'esses', 'esta', 'dele', 'te', 'de', 'estejamos', 'estivéramos', 'tuas', 'há', 'aquilo', 'for', 'esse', 'estamos', 'era', 'qual', 'quem', 'fora', 'houverem', 'fossem', 'tinham', 'será', 'nosso', 'teria', 'dos', 'tiveram', 'são', 'estivéssemos', 'terão', 'seu', 'as', 'houvera', 'também', 'vos', 'foram', 'nos', 'tenhamos', 'tivéssemos', 'este', 'havemos', 'houvéssemos', 'não', 'você', 'essas', 'eu', 'nossos', 'tiver', 'fosse', 'formos', 'nas', 'nós', 'sejamos', 'eles', 'pelas', 'teu', 'mesmo', 'tivessem', 'houveria', 'vocês', 'estar', 'estes', 'terá', 'deles', 'fôramos', 'pelo', 'aquelas', 'no', 'do', 'é', 'aos', 'houve', 'dela', 'minha', 'com', 'em', 'estão', 'por', 'isto', 'serei', 'teríamos', 'muito', 'hei', 'houvermos', 'eram', 'pelos', 'e', 'estava', 'seremos', 'estiveram', 'houverá', 'suas', 'ao', 'ele', 'delas', 'tinha', 'tivermos', 'estivessem', 'éramos', 'uma', 'tu', 'houvemos', 'nem', 'estou', 'houver', 'seríamos', 'ou', 'sou', 'fôssemos', 'haja', 'somos', 'a', 'elas', 'nossa', 'houveriam', 'houvéramos', 'ser', 'houverão', 'numa', 'seriam', 'aquela', 'mas', 'já', 'tenho', 'estávamos', 'estivemos', 'me', 'só', 'até', 'estivermos', 'esteve', 'quando', 'seria', 'lhes', 'que', 'tém', 'um', 'minhas', 'da', 'como', 'num', 'forem', 'depois', 'houvessem', 'tem', 'das', 'estiverem', 'ela', 'para', 'sua', 'tivesse', 'fomos', 'haver', 'tenha', 'teriam', 'pela', 'houveram', 'lhe', 'temos', 'teve', 'tiverem', 'aquele', 'estavam', 'foi', 'tivera', 'está', 'hajam', 'estivera', 'os', 'houvesse'} instead."
     ]
    }
   ],
   "source": [
    "# Baixar as stopwords em português\n",
    "nltk.download('stopwords')\n",
    "# Obter a lista de stopwords em português\n",
    "stop_words = stopwords.words('portuguese')\n",
    "\n",
    "def preprocess_text(text):\n",
    "    # Remove números e caracteres especiais\n",
    "    text = re.sub(r'\\d+', '', text)\n",
    "    text = re.sub(r'[^\\w\\s]', '', text)\n",
    "    # Converte o texto para minúsculas\n",
    "    text = text.lower()\n",
    "    # Remove stop words\n",
    "    text = ' '.join([word for word in text.split() if word not in stop_words])\n",
    "    return unidecode(text)\n",
    "\n",
    "\n",
    "texts = [\n",
    "    'Investimento de príncipe árabe Neste domingo (18), o Vasco enfrenta o Criciúma pela 23ª rodada do Brasileirão Série A no Heriberto Hülse e uma vitória é importante para o Cruz-Maltino seguir na primeira página da tabela. © Thiago Ribeiro/AGIFPedrinho, presidente do Cruz-Maltino, negocia acordo nos bastidores. Cruzeiro bate Atlético-MG por 2 a 0 e aumenta tabu do clássicoPalmeiras empata com o Cruzeiro em 1 a 1 e é campeão brasileiro O time de Rafael Paiva vem de uma vitória contra o Fluminense e quer seguir neste bom momento. A partida contra o Criciúma vai ter transmissão em tempo real do Bolavip Brasil. Já nos bastidores, o presidente Pedrinho negocia a venda das ações da SAF que pertencem a A-CAP, seguradora que assumiu o controle da 777 Partners. A Crefisa está fora do negócio, mas o Cruz-Maltino tem conversas avançadas com o Fundo de Investimento da Arábia Saudita. Aporte financeiro em R$ 400 milhões O jornalista Fabio Azevedo informou que o novo sócio do Vasco vai precisar assumir o contrato que era com a 777 Partners e compraria a parte que seria aportada pela A-CAP. O comunicador explicou que R$ 310 milhões foram aportados e o novo parceiro do Vascão pagaria esse valor com correção. Dependeria das cifras pedidas pela A-CAP, mas poderia chegar em R$ 500 milhões. Vasco deve vender a SAF aos árabes?Vasco deve vender a SAF aos árabes?0 PESSOAS JÁ VOTARAM No contrato com a 777 Partners, a empresa teria que fazer mais dois aportes financeiros ao Clube Carioca e o Fundo Saudita assumiria esse pagamento. Em setembro de 2024, R$ 280 milhões e no ano que vem em R$ 120 milhões. Venda pode ser confirmada em outubro O líder do fundo de investimento saudita é o príncipe Mohammad bin Salman e os árabes vem fazendo grandes investimentos no futebol. Recentemente, eles compraram o Newcastle, da Inglaterra. Veja tambémAtacante recusa oferta e Vasco de Pedrinho tem negócio com Anderlecht cancelado Além disso, os sauditas estão aportando grandes valores para fazer crescer o futebol local de olho na Copa do Mundo de 2034. A liga adquiriu recentemente contratou nomes como Cristiano Ronaldo e Neymar, além de ter feito oferta ao Vinícius Júnior, do Real Madrid. A ideia dos árabes é tocar a parte financeira do Cruz-Maltino e deixar a gestão do futebol para Pedrinho, segundo o jornalista Fabio Azevedo. Foi especulado que o dono do Chelsea poderia comprar o Vasco, mas o príncipe Mohammad bin Salman é quem tem conversas mais avançadas e acordo pode ser fechado até outubro. O que dizem os torcedores?, ',\n",
    "    'Criciúma e Vasco se enfrentam hoje (18), às 16h (de Brasília), no Heriberto Hülse, pela 23ª rodada do Campeonato Brasileiro. Onde assistir ao jogo? TV Globo (RJ, SC, ES, PB e as cidades mineiras de Coronel Fabriciano, Juiz de Fora e Montes Claros) e Premiere (pay-per-view) transmitem a partida. O Vasco é o décimo colocado do Brasileirão, com 27 pontos. Já o Criciúma tem 24 pontos, na 15ª posição, e quer se afastar da zona de rebaixamento., ',\n",
    "    'Convidado do Domingol com Benja deste domingo (18), Euriquinho, filho de Eurico Miranda, ex-presidente do Vasco, compartilhou detalhes inéditos sobre o dia em que o clube entrou em campo com o logo do SBT no uniforme durante uma transmissão exclusiva da Rede Globo. O episódio aconteceu na final da Copa João Havelange, em 2000, no duelo dos vascaínos contra o São Caetano. Leia mais Alexandre Pato, genro de Silvio Santos, presta homenagem ao sogro e faz revelação Fluminense e Corinthians se unem em homenagens a Silvio Santos no Maracanã Neymar presta homenagem a Silvio Santos: &quot;Lenda da TV brasileira&quot; Em entrevista à CNN Brasil, Euriquinho esclareceu que a ideia partiu de seu pai, Eurico, e não do jogador Romário, como muitos especulavam. “Foi ideia do meu pai mesmo. Ele estava numa briga muito grande com a Globo e queria dar uma resposta”, explicou. Operação secreta e reação do SBT O plano foi executado com extremo sigilo, envolvendo apenas quatro ou cinco pessoas. “Foi tudo feito muito rápido. Ele teve a ideia de botar o SBT, botou, e todo mundo ainda questionou se não ia pedir autorização. Ele não pediu, botou na surpresa”, revelou Euriquinho. Contrariando as expectativas de um possível processo judicial, Euriquinho contou que o desfecho foi surpreendentemente positivo. “Dois ou três dias depois, o próprio Silvio [Santos] pegou o telefone, ligou para o meu pai para agradecer muito. Ele falou que tinha sido genial a ideia, que por muitos anos tinha investido em marketing e nunca ninguém tinha promovido tanto a imagem do SBT como o Vasco tinha feito naquele jogo”, relatou. Impacto e legado O episódio, que ocorreu durante a final entre Vasco e São Caetano, não apenas marcou a história do futebol brasileiro, mas também evidenciou as tensões entre clubes e emissoras de televisão na disputa pelos direitos de transmissão. Acompanhe a CNN Esportes em todas as plataformas YouTubeTiktokInstagramTwitter Os textos gerados por inteligência artificial na CNN Brasil são feitos com base nos cortes de vídeos dos jornais de sua programação. Todas as informações são apuradas e checadas por jornalistas. O texto final também passa pela revisão da equipe de jornalismo da CNN. Clique aqui para saber mais. Tópicos CNN Esportes Domingol Futebol brasileiro Silvio Santos Vasco Compartilhe:, ',\n",
    "    'Criciúma e Vasco se enfrentam neste domingo (18), pela 23ª rodada do Brasileirão, às 16h. O Vasco vai para a partida desfalcado de Pablo Vegetti, principal jogador da equipe, que sentiu uma lesão muscular na coxa contra o Fluminense. Jornalistas da Globo analisaram o confronto e apontaram o favorito a vencer a partida no Estádio Heriberto Hulse. André Loffredo, Alex Escobar, Carlos Mansur, Felipe Diniz, Jéssica Cescon, Rodrigo Coutinho e Tiago Medeiros debateram sobre o jogo e apontaram o Criciúma como o favorito a vencer a partida. No último encontro entre os dois times, o Vasco, ainda sob o comando de Ramón Diaz, levou uma goleada de 4x0 em casa. Uma vitória para cada um dos lados pode mudar o cenário dos times na tabela. Com a soma dos três pontos, o Vasco se firma na primeira parte da tabela e abre larga vantagem da zona de rebaixamento. Uma vitória do Criciúma sobre o Vasco, leva o time a zona de classificação da Sul-Americana, se afastando do fantasma do rebaixamento. Confira os votos:, ',\n",
    "    'Criciúma e Vasco se enfrentam na tarde deste domingo, dia 18 de agosto, às 16h (horário de Brasília), em jogo válido pela 22ª rodada do Campeonato Brasileiro. A partida ocorre no estádio Heriberto Hülse, na cidade de Criciúma. PUBLICIDADE Após vencer o Fortaleza na última rodada, a equipe comandada por Cláudio Tencati busca se manter fora do Z-4 e ampliar a vantagem para os últimos colocados. O lateral-esquerdo Marcelo Hermes, suspenso após o terceiro cartão amarelo, não joga. Do outro lado do campo, a equipe carioca vem de uma importante vitória contra o Fluminense no clássico dos Gigantes. O time de Rafael Paiva, no entanto, não contará com uma das principais referências do clube. O atacante Pablo Vegetti, com dores na coxa, será poupado. Publicidade, ',\n",
    "]\n",
    "\n",
    "vectorizer = TfidfVectorizer(max_df=0.9, min_df=2, stop_words=stop_words)\n",
    "tfidf_matrix = vectorizer.fit_transform(texts)\n",
    "\n",
    "num_clusters = 5  # Escolha o número de clusters desejado\n",
    "km_model = KMeans(n_clusters=num_clusters)\n",
    "km_model.fit(tfidf_matrix)\n",
    "\n",
    "clusters = km_model.labels_.tolist()\n",
    "\n",
    "\n",
    "# teste2 = preprocess_text(teste1)\n",
    "\n",
    "# print(teste2)\n",
    "\n",
    "# print(len(teste1.split(' ')))\n",
    "# print(len(teste2.split(' ')))\n",
    "\n"
   ]
  },
  {
   "cell_type": "code",
   "execution_count": 24,
   "metadata": {},
   "outputs": [
    {
     "name": "stderr",
     "output_type": "stream",
     "text": [
      "[nltk_data] Downloading package stopwords to\n",
      "[nltk_data]     C:\\Users\\johan\\AppData\\Roaming\\nltk_data...\n",
      "[nltk_data]   Package stopwords is already up-to-date!\n"
     ]
    },
    {
     "ename": "ModuleNotFoundError",
     "evalue": "No module named 'ace_tools'",
     "output_type": "error",
     "traceback": [
      "\u001b[1;31m---------------------------------------------------------------------------\u001b[0m",
      "\u001b[1;31mModuleNotFoundError\u001b[0m                       Traceback (most recent call last)",
      "\u001b[1;32mc:\\jn\\news\\socratesnews-engine\\src\\ais\\str_tokens.ipynb Célula 3\u001b[0m line \u001b[0;36m5\n\u001b[0;32m     <a href='vscode-notebook-cell:/c%3A/jn/news/socratesnews-engine/src/ais/str_tokens.ipynb#W2sZmlsZQ%3D%3D?line=51'>52</a>\u001b[0m df_density_sorted \u001b[39m=\u001b[39m df_density\u001b[39m.\u001b[39msort_values(by\u001b[39m=\u001b[39m\u001b[39m'\u001b[39m\u001b[39mDensidade de Conteúdo\u001b[39m\u001b[39m'\u001b[39m, ascending\u001b[39m=\u001b[39m\u001b[39mFalse\u001b[39;00m)\n\u001b[0;32m     <a href='vscode-notebook-cell:/c%3A/jn/news/socratesnews-engine/src/ais/str_tokens.ipynb#W2sZmlsZQ%3D%3D?line=53'>54</a>\u001b[0m \u001b[39m# Exibir o DataFrame\u001b[39;00m\n\u001b[1;32m---> <a href='vscode-notebook-cell:/c%3A/jn/news/socratesnews-engine/src/ais/str_tokens.ipynb#W2sZmlsZQ%3D%3D?line=54'>55</a>\u001b[0m \u001b[39mimport\u001b[39;00m \u001b[39mace_tools\u001b[39;00m \u001b[39mas\u001b[39;00m \u001b[39mtools\u001b[39;00m; tools\u001b[39m.\u001b[39mdisplay_dataframe_to_user(name\u001b[39m=\u001b[39m\u001b[39m\"\u001b[39m\u001b[39mTextos com Maior Densidade de Conteúdo\u001b[39m\u001b[39m\"\u001b[39m, dataframe\u001b[39m=\u001b[39mdf_density_sorted)\n",
      "\u001b[1;31mModuleNotFoundError\u001b[0m: No module named 'ace_tools'"
     ]
    }
   ],
   "source": [
    "import re\n",
    "import nltk\n",
    "from sklearn.feature_extraction.text import TfidfVectorizer\n",
    "from nltk.corpus import stopwords\n",
    "import pandas as pd\n",
    "\n",
    "# Passo 1: Baixar as stopwords em português\n",
    "nltk.download('stopwords')\n",
    "\n",
    "# Passo 2: Obter a lista de stopwords em português\n",
    "stop_words = stopwords.words('portuguese')\n",
    "\n",
    "# Passo 3: Função de pré-processamento dos textos\n",
    "def preprocess_text(text):\n",
    "    # Remove números e caracteres especiais\n",
    "    text = re.sub(r'\\d+', '', text)\n",
    "    text = re.sub(r'[^\\w\\s]', '', text)\n",
    "    \n",
    "    # Converte o texto para minúsculas\n",
    "    text = text.lower()\n",
    "    \n",
    "    # Remove stop words\n",
    "    text = ' '.join([word for word in text.split() if word not in stop_words])\n",
    "    \n",
    "    return text\n",
    "\n",
    "# Suponha que você tenha seus textos em uma lista chamada 'texts_original'\n",
    "texts_original = [\n",
    "    \"Coração de mãe sempre cabe mais um.\",\n",
    "    \"A música acalma a alma.\",\n",
    "    \"É importante manter a ação em todas as circunstâncias.\",\n",
    "    \"O açúcar está caro.\",\n",
    "    \"A saúde é o que mais importa.\"\n",
    "]\n",
    "\n",
    "# Passo 4: Pré-processar os textos\n",
    "texts = [preprocess_text(text) for text in texts_original]\n",
    "\n",
    "# Passo 5: Vetorização usando TF-IDF com parâmetros ajustados\n",
    "vectorizer = TfidfVectorizer(max_df=1.0, min_df=1, stop_words=stop_words)\n",
    "tfidf_matrix = vectorizer.fit_transform(texts)\n",
    "\n",
    "# Passo 6: Calcular a densidade de conteúdo\n",
    "import numpy as np\n",
    "content_density = np.mean(tfidf_matrix.toarray(), axis=1)\n",
    "\n",
    "# Passo 7: Criação de um DataFrame para visualização\n",
    "# Certificando-se de que 'content_density' é 1D\n",
    "df_density = pd.DataFrame({'Texto': texts_original, 'Densidade de Conteúdo': content_density})\n",
    "\n",
    "# Passo 8: Ordena o DataFrame pela densidade de conteúdo (do maior para o menor)\n",
    "df_density_sorted = df_density.sort_values(by='Densidade de Conteúdo', ascending=False)\n",
    "\n",
    "# Exibir o DataFrame\n",
    "import ace_tools as tools; tools.display_dataframe_to_user(name=\"Textos com Maior Densidade de Conteúdo\", dataframe=df_density_sorted)\n"
   ]
  }
 ],
 "metadata": {
  "kernelspec": {
   "display_name": "Python 3",
   "language": "python",
   "name": "python3"
  },
  "language_info": {
   "codemirror_mode": {
    "name": "ipython",
    "version": 3
   },
   "file_extension": ".py",
   "mimetype": "text/x-python",
   "name": "python",
   "nbconvert_exporter": "python",
   "pygments_lexer": "ipython3",
   "version": "3.12.0"
  }
 },
 "nbformat": 4,
 "nbformat_minor": 2
}
