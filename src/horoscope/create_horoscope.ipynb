{
 "cells": [
  {
   "cell_type": "markdown",
   "metadata": {},
   "source": [
    "# Gerador de horóscopo\n",
    "\n",
    "Inputs do modelo:\n",
    "Utiliza como referência para as previsões os seguintes sites:\n",
    "- João Bidu\n",
    "- Terra\n",
    "- UOL\n",
    "- Personare\n",
    "\n",
    "Outputs do modelo:\n",
    "Texto contendo entre 100 e 120 palavras no banco de dados"
   ]
  },
  {
   "cell_type": "code",
   "execution_count": 19,
   "metadata": {},
   "outputs": [],
   "source": [
    "import openai\n",
    "from dotenv import load_dotenv\n",
    "import os\n",
    "import requests\n",
    "from datetime import datetime, time, timezone, timedelta\n",
    "import random\n",
    "from bs4 import BeautifulSoup\n",
    "import json"
   ]
  },
  {
   "cell_type": "code",
   "execution_count": 20,
   "metadata": {},
   "outputs": [],
   "source": [
    "load_dotenv()\n",
    "client = openai.Client(api_key=os.getenv(\"OPENAI_API_KEY\"))"
   ]
  },
  {
   "cell_type": "code",
   "execution_count": 21,
   "metadata": {},
   "outputs": [],
   "source": [
    "def get_horoscope_prediction_joao_bidu(sign):\n",
    "    try:\n",
    "        url =  f'https://joaobidu.com.br/horoscopo/signos/previsao-{sign}/'\n",
    "        response = requests.get(url)\n",
    "        html_content = response.text\n",
    "        soup = BeautifulSoup(html_content, 'html.parser')\n",
    "        elemento = soup.find('div', class_='theiaPostSlider_preloadedSlide')\n",
    "        previsao = elemento.find('div', class_='zoxrel left').text.split('\\n')[0][7:-1]\n",
    "    except:\n",
    "        previsao = ''\n",
    "\n",
    "    return previsao"
   ]
  },
  {
   "cell_type": "code",
   "execution_count": 22,
   "metadata": {},
   "outputs": [],
   "source": [
    "def get_horoscope_prediction_terra(sign):\n",
    "    try:\n",
    "        url =  f'https://www.terra.com.br/vida-e-estilo/horoscopo/signos/{sign}/'\n",
    "        response = requests.get(url)\n",
    "        html_content = response.text\n",
    "        soup = BeautifulSoup(html_content, 'html.parser')\n",
    "        elemento = soup.find('div', class_='horoscope--content__embed')\n",
    "        previsao = elemento.find('p').text\n",
    "    except:\n",
    "        previsao = ''\n",
    "\n",
    "    return previsao"
   ]
  },
  {
   "cell_type": "code",
   "execution_count": 23,
   "metadata": {},
   "outputs": [],
   "source": [
    "def get_horoscope_prediction_uol(sign):\n",
    "    try:\n",
    "        url =  f'https://www.uol.com.br/universa/horoscopo/{sign}/horoscopo-do-dia/'\n",
    "        response = requests.get(url)\n",
    "        html_content = response.text\n",
    "        soup = BeautifulSoup(html_content, 'html.parser')\n",
    "        elemento = soup.find('div', class_='horoscope-open-content')\n",
    "        previsao = elemento.find('p').text#.split('\\n')[0][7:-1]\n",
    "    except:\n",
    "        previsao = ''\n",
    "\n",
    "    return previsao"
   ]
  },
  {
   "cell_type": "code",
   "execution_count": 24,
   "metadata": {},
   "outputs": [],
   "source": [
    "def get_horoscope_prediction_personare(sign):\n",
    "    try:\n",
    "        url =  f'https://www.personare.com.br/horoscopo-do-dia/{sign}'\n",
    "        response = requests.get(url)\n",
    "        html_content = response.text\n",
    "        soup = BeautifulSoup(html_content, 'html.parser')\n",
    "        elemento = soup.find('div', class_='styles__Text-sc-1ryixz1-3')\n",
    "        previsao = elemento.find('p').text#.split('\\n')[0][7:-1]\n",
    "    except:\n",
    "        previsao = ''\n",
    "    \n",
    "    return previsao"
   ]
  },
  {
   "cell_type": "code",
   "execution_count": 25,
   "metadata": {},
   "outputs": [],
   "source": [
    "def get_horoscope_prediction(sign):\n",
    "\n",
    "    previsao_joaobidu = get_horoscope_prediction_joao_bidu(sign)\n",
    "    previsao_terra = get_horoscope_prediction_terra(sign)\n",
    "    previsao_uol = get_horoscope_prediction_uol(sign)\n",
    "    previsao_personare = get_horoscope_prediction_personare(sign)\n",
    "    \n",
    "    predictions = f'Previsão 1: {previsao_joaobidu}\\n\\nPrevisão 2: {previsao_terra}\\n\\nPrevisão 3: {previsao_uol}\\n\\nPrevisão 4: {previsao_personare}' \n",
    "\n",
    "    return predictions"
   ]
  },
  {
   "cell_type": "code",
   "execution_count": 26,
   "metadata": {},
   "outputs": [],
   "source": [
    "def save_horoscope(sign, prediction):\n",
    "    url = 'http://localhost:3000/api/horoscope'\n",
    "    \n",
    "    now = datetime.now(timezone.utc)\n",
    "    tomorrow = now + timedelta(days=1)\n",
    "\n",
    "    payload = {\n",
    "        \"uid\": \"abcdefghijklmnopq-cartomante\",\n",
    "        \"supportUid\": \"johannesadmin\",\n",
    "        \"h1\": sign, \n",
    "        \"text\": prediction, \n",
    "    }\n",
    "    response = requests.post(url, json=payload)\n",
    "\n",
    "    if response.status_code != 200:\n",
    "        print(f'Erro: {response.status_code}')"
   ]
  },
  {
   "cell_type": "code",
   "execution_count": 27,
   "metadata": {},
   "outputs": [],
   "source": [
    "def create_daily_horoscope():\n",
    "    signos = [\n",
    "        {\"name\": \"Áries\", \"fromTo\": \"21-mar a 20-abr\", \"reference\": \"aries\"},\n",
    "        {\"name\": \"Touro\", \"fromTo\": \"21-abr a 20-mai\", \"reference\": \"touro\"},\n",
    "        {\"name\": \"Gêmeos\", \"fromTo\": \"21-mai a 20-jun\", \"reference\": \"gemeos\"},\n",
    "        {\"name\": \"Câncer\", \"fromTo\": \"21-jun a 21-jul\", \"reference\": \"cancer\"},\n",
    "        {\"name\": \"Leão\", \"fromTo\": \"22-jul a 22-ago\", \"reference\": \"leao\"},\n",
    "        {\"name\": \"Virgem\", \"fromTo\": \"23-ago a 22-set\", \"reference\": \"virgem\"},\n",
    "        {\"name\": \"Libra\", \"fromTo\": \"23-set a 22-out\", \"reference\": \"libra\"},\n",
    "        {\"name\": \"Escorpião\", \"fromTo\": \"23-out a 21-nov\", \"reference\": \"escorpiao\"},\n",
    "        {\"name\": \"Sagitário\", \"fromTo\": \"22-nov a 21-dez\", \"reference\": \"sagitario\"},\n",
    "        {\"name\": \"Capricórnio\", \"fromTo\": \"22-dez a 20-jan\", \"reference\": \"capricornio\"},\n",
    "        {\"name\": \"Aquário\", \"fromTo\": \"21-jan a 19-fev\", \"reference\": \"aquario\"},\n",
    "        {\"name\": \"Peixes\", \"fromTo\": \"20-fev a 20-mar\", \"reference\": \"peixes\"}\n",
    "    ]\n",
    "    \n",
    "    startWith = [\n",
    "        \"hoje\",\n",
    "        \"aproveite o momento para\",\n",
    "        \"concentre-se em\",\n",
    "        \"é o momento perfeito para\",\n",
    "        \"preste atenção\",\n",
    "        \"busque o equilíbrio em suas relações e tome decisões ponderadas.\",\n",
    "        \"um período de\",\n",
    "        \"novas aventuras e oportunidades estão prestes a surgir.\",\n",
    "        \"trabalhe com\",\n",
    "        \"sua\",\n",
    "        \"permita-se\",\n",
    "    ]\n",
    "    \n",
    "    for s in signos:\n",
    "        reference = get_horoscope_prediction(s[\"reference\"])\n",
    "        content = f'Qual o horóscopo de {s[\"name\"].lower()} para hoje? Escreva um texto entre 100 e 120 palavras que será publicado em um jornal. Se necessário, considere a referêcia existente em alguns sites de prestígio \\n\\n{reference}\\n\\nComece com: \"{s[\"name\"]}, {random.choice(startWith)}\"'\n",
    "        message = [{\n",
    "            'role': 'user',\n",
    "            'content': content\n",
    "        }]\n",
    "\n",
    "        response = client.chat.completions.create(\n",
    "            messages=message, \n",
    "            model=\"gpt-4o-mini\", \n",
    "            max_tokens=1000, \n",
    "            temperature=0, \n",
    "            )\n",
    "        prediction = response.choices[0].message.content\n",
    "        save_horoscope(s[\"name\"], prediction)\n",
    "        "
   ]
  },
  {
   "cell_type": "code",
   "execution_count": 29,
   "metadata": {},
   "outputs": [],
   "source": [
    "create_daily_horoscope()"
   ]
  }
 ],
 "metadata": {
  "kernelspec": {
   "display_name": "Python 3",
   "language": "python",
   "name": "python3"
  },
  "language_info": {
   "codemirror_mode": {
    "name": "ipython",
    "version": 3
   },
   "file_extension": ".py",
   "mimetype": "text/x-python",
   "name": "python",
   "nbconvert_exporter": "python",
   "pygments_lexer": "ipython3",
   "version": "3.12.0"
  }
 },
 "nbformat": 4,
 "nbformat_minor": 2
}
