{
 "cells": [
  {
   "cell_type": "code",
   "execution_count": 28,
   "metadata": {},
   "outputs": [],
   "source": [
    "from youtube_transcript_api import YouTubeTranscriptApi\n",
    "import requests\n",
    "from bs4 import BeautifulSoup\n",
    "from datetime import datetime, timedelta\n",
    "import re"
   ]
  },
  {
   "cell_type": "code",
   "execution_count": 29,
   "metadata": {},
   "outputs": [
    {
     "name": "stdout",
     "output_type": "stream",
     "text": [
      "1\n",
      "2\n"
     ]
    }
   ],
   "source": [
    "class YouTube:\n",
    "\n",
    "    def __init__(self, video_url):\n",
    "        self.url_source = video_url\n",
    "        self.url = self.get_video_url()\n",
    "        self.html = self.get_html()\n",
    "        self.title = self.get_title()\n",
    "        self.transcription = self.get_video_transcription()\n",
    "        self.text = self.text_from_transcription()\n",
    "        \n",
    "\n",
    "    def get_video_url(self):\n",
    "        try:\n",
    "            result = self.url_source.replace(\"/watch%3Fv%3D\", \"/watch?v=\")\n",
    "            return result\n",
    "\n",
    "        except Exception as e:\n",
    "            print(f\"Erro ao obter a url do vídeo\")\n",
    "    \n",
    "\n",
    "    def get_html(self):\n",
    "        try:\n",
    "            browsers = {'User-Agent': \"Mozilla/5.0 (Windows NT 10.0; Win64; x64) AppleWebKit/537.36 (KHTML, like Gecko) Chrome / 86.0.4240.198Safari / 537.36\"}\n",
    "            page = requests.get(self.url, headers = browsers)\n",
    "            resposta = page.text\n",
    "            soup = BeautifulSoup(resposta, 'html.parser')\n",
    "            return soup\n",
    "        except:\n",
    "            return None\n",
    "\n",
    "\n",
    "    def get_title(self):\n",
    "        try:\n",
    "            title = self.html.find('title').get_text()\n",
    "            return title.strip()\n",
    "        except Exception as e:\n",
    "            print(f\"Erro ao obter o título\")\n",
    "            return None\n",
    "    \n",
    "    \n",
    "    def get_video_transcription(self):\n",
    "        try:\n",
    "            video_id = self.url.split(\"v=\")[-1]\n",
    "            transcript = YouTubeTranscriptApi.get_transcript(video_id, languages=['pt', 'en'])\n",
    "            transcription = []\n",
    "            for entry in transcript:\n",
    "                transcription.append(entry)\n",
    "            return transcription\n",
    "\n",
    "        except Exception as e:\n",
    "            print(f\"Erro ao obter a legenda\")\n",
    "    \n",
    "    \n",
    "    def text_from_transcription(self):\n",
    "        try:\n",
    "            text = ''\n",
    "            for entry in self.transcription:\n",
    "                text += entry['text']\n",
    "                text += '\\n'\n",
    "            return text\n",
    "\n",
    "        except Exception as e:\n",
    "            print(f\"Erro ao transformar legenda em texto\")\n",
    "\n"
   ]
  }
 ],
 "metadata": {
  "kernelspec": {
   "display_name": "Python 3",
   "language": "python",
   "name": "python3"
  },
  "language_info": {
   "codemirror_mode": {
    "name": "ipython",
    "version": 3
   },
   "file_extension": ".py",
   "mimetype": "text/x-python",
   "name": "python",
   "nbconvert_exporter": "python",
   "pygments_lexer": "ipython3",
   "version": "3.12.0"
  }
 },
 "nbformat": 4,
 "nbformat_minor": 2
}
