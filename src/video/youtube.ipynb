{
 "cells": [
  {
   "cell_type": "code",
   "execution_count": 16,
   "metadata": {},
   "outputs": [],
   "source": [
    "from youtube_transcript_api import YouTubeTranscriptApi\n",
    "\n",
    "class YouTube:\n",
    "\n",
    "    def __init__(self, video_url):\n",
    "        self.video_url = video_url\n",
    "        self.transcription = self.get_video_transcription(self.video_url)\n",
    "        self.text = self.text_from_transcription(self.transcription)\n",
    "        \n",
    "\n",
    "\n",
    "    def get_video_transcription(self, video_url):\n",
    "        try:\n",
    "            video_id = video_url.split(\"v=\")[-1]\n",
    "            transcript = YouTubeTranscriptApi.get_transcript(video_id, languages=['pt', 'en'])\n",
    "            transcription = []\n",
    "            for entry in transcript:\n",
    "                transcription.append(entry)\n",
    "            return transcription\n",
    "\n",
    "        except Exception as e:\n",
    "            print(f\"Erro ao obter a legenda: {e}\")\n",
    "            \n",
    "    def text_from_transcription(self, transcription):\n",
    "        try:\n",
    "            text = ''\n",
    "            for entry in transcription:\n",
    "                text += entry['text']\n",
    "                text += '\\n'\n",
    "            return text\n",
    "\n",
    "        except Exception as e:\n",
    "            print(f\"Erro ao transformar legenda em texto: {e}\")\n",
    "\n",
    "video = YouTube(\"https://www.youtube.com/watch?v=O3mo8bS_grQ\")\n"
   ]
  },
  {
   "cell_type": "code",
   "execution_count": null,
   "metadata": {},
   "outputs": [],
   "source": []
  }
 ],
 "metadata": {
  "kernelspec": {
   "display_name": "Python 3",
   "language": "python",
   "name": "python3"
  },
  "language_info": {
   "codemirror_mode": {
    "name": "ipython",
    "version": 3
   },
   "file_extension": ".py",
   "mimetype": "text/x-python",
   "name": "python",
   "nbconvert_exporter": "python",
   "pygments_lexer": "ipython3",
   "version": "3.12.0"
  }
 },
 "nbformat": 4,
 "nbformat_minor": 2
}
