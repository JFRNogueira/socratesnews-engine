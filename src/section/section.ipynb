{
 "cells": [
  {
   "cell_type": "code",
   "execution_count": 2,
   "metadata": {},
   "outputs": [],
   "source": [
    "import requests\n",
    "from dotenv import load_dotenv\n",
    "import os\n",
    "import ipywidgets as widgets\n",
    "from IPython.display import display, clear_output\n",
    "\n",
    "load_dotenv()\n",
    "API_URL = os.getenv(\"API_URL\")"
   ]
  },
  {
   "cell_type": "code",
   "execution_count": null,
   "metadata": {},
   "outputs": [],
   "source": [
    "class Section:\n",
    "\n",
    "    def __init__(self):\n",
    "        self.sections = self.get_sections()\n",
    "        self.sectionId = ''\n",
    "        self.sectionName = ''\n",
    "        self.selection = ''\n",
    "        self.output_area = widgets.Output()\n",
    "        self.create_checkboxes()\n",
    "\n",
    "\n",
    "    def get_sections(self):\n",
    "        url = f'{API_URL}/api/section'\n",
    "        sections = requests.get(url).json()\n",
    "        return sections\n",
    "    \n",
    "    def create_checkboxes(self):\n",
    "        options = [news['sectionName'] for news in self.sections]\n",
    "        self.selection = widgets.Dropdown(\n",
    "            options = options,\n",
    "            description='Seção:',\n",
    "            disabled=False,\n",
    "            layout=widgets.Layout(width='30%')\n",
    "        )\n",
    "        \n",
    "        self.confirm_button = widgets.Button(\n",
    "            description='Seção',\n",
    "            button_style='success',\n",
    "            tooltip='Avaliar notícias',\n",
    "            icon='check',\n",
    "            layout=widgets.Layout(width='20%')\n",
    "        )\n",
    "        self.confirm_button.on_click(self.on_confirm_button_click)\n",
    "        display(self.selection, self.confirm_button, self.output_area)\n",
    "    \n",
    "    def on_confirm_button_click(self, b):\n",
    "        with self.output_area:\n",
    "            clear_output()\n",
    "            selected_section = self.selection.value\n",
    "            self.sectionId = [section for section in self.sections if section['sectionName'] == selected_section][0]['sectionId']\n",
    "            self.sectionName = selected_section\n",
    "            print(f\"Seção selecionada: {self.sectionName}\")\n",
    "    \n",
    "    "
   ]
  }
 ],
 "metadata": {
  "kernelspec": {
   "display_name": "Python 3",
   "language": "python",
   "name": "python3"
  },
  "language_info": {
   "codemirror_mode": {
    "name": "ipython",
    "version": 3
   },
   "file_extension": ".py",
   "mimetype": "text/x-python",
   "name": "python",
   "nbconvert_exporter": "python",
   "pygments_lexer": "ipython3",
   "version": "3.12.0"
  }
 },
 "nbformat": 4,
 "nbformat_minor": 2
}
