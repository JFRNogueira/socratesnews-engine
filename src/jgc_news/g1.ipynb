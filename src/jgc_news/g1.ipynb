{
 "cells": [
  {
   "cell_type": "code",
   "execution_count": null,
   "metadata": {},
   "outputs": [],
   "source": [
    "import requests\n",
    "from bs4 import BeautifulSoup\n",
    "from datetime import datetime, timedelta"
   ]
  },
  {
   "cell_type": "code",
   "execution_count": 3,
   "metadata": {},
   "outputs": [],
   "source": [
    "class G1:\n",
    "\n",
    "    def __init__(self, base_url='https://g1.globo.com/'):\n",
    "        self.base_url = base_url\n",
    "    \n",
    "    def yesterday_url_str(self):\n",
    "        yesterday = datetime.now() - timedelta(1)\n",
    "        yesterday_str = yesterday.strftime(\"/%Y/%m/%d/\")\n",
    "        return f'/noticia{yesterday_str}'\n",
    "\n",
    "    def getUrls(self, url, only_yesterday=True):\n",
    "        headers = {'User-Agent': \"Mozilla/5.0 (Windows NT 10.0; Win64; x64) AppleWebKit/537.36 (KHTML, like Gecko) Chrome / 86.0.4240.198Safari / 537.36\"}\n",
    "        response = requests.get(url, headers=headers)\n",
    "        soup = BeautifulSoup(response.text, 'html.parser')\n",
    "        all_hrefs = soup.find_all('a')\n",
    "        urls = []\n",
    "        for a in all_hrefs:\n",
    "            href = a.get('href')\n",
    "            if href is not None:  # Verifique se href não é None\n",
    "                if only_yesterday: \n",
    "                    if self.yesterday_url_str() in href:\n",
    "                        urls.append(href)\n",
    "                else:\n",
    "                    urls.append(href)\n",
    "        return list(set(urls))\n",
    "\n",
    "    def getNewsData(self, url):\n",
    "        browsers = {'User-Agent': \"Mozilla/5.0 (Windows NT 10.0; Win64; x64) AppleWebKit/537.36 (KHTML, like Gecko) Chrome / 86.0.4240.198Safari / 537.36\"}\n",
    "        page = requests.get(url, headers = browsers)\n",
    "        resposta = page.text\n",
    "        soup = BeautifulSoup(resposta, 'html.parser')\n",
    "\n",
    "        title = soup.find('h1', class_=\"content-head__title\").get_text()\n",
    "        content = \"\"\n",
    "\n",
    "        for p in soup.find_all('p', class_=\"content-text__container\"):\n",
    "            content += p.get_text()\n",
    "            content += \"\\n\"\n",
    "        \n",
    "        content = re.sub(r'\\s+', ' ', content).strip()\n",
    "\n",
    "        return {\n",
    "            \"url\": url,\n",
    "            \"title\": title,\n",
    "            \"content\": content\n",
    "        }\n"
   ]
  }
 ],
 "metadata": {
  "kernelspec": {
   "display_name": "Python 3",
   "language": "python",
   "name": "python3"
  },
  "language_info": {
   "codemirror_mode": {
    "name": "ipython",
    "version": 3
   },
   "file_extension": ".py",
   "mimetype": "text/x-python",
   "name": "python",
   "nbconvert_exporter": "python",
   "pygments_lexer": "ipython3",
   "version": "3.12.0"
  }
 },
 "nbformat": 4,
 "nbformat_minor": 2
}
