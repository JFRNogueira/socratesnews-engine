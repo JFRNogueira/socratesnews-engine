{
 "cells": [
  {
   "cell_type": "code",
   "execution_count": 1,
   "metadata": {},
   "outputs": [
    {
     "data": {
      "text/plain": [
       "'pt_BR.utf8'"
      ]
     },
     "execution_count": 1,
     "metadata": {},
     "output_type": "execute_result"
    }
   ],
   "source": [
    "import requests\n",
    "from bs4 import BeautifulSoup\n",
    "from datetime import datetime, timedelta\n",
    "import locale\n",
    "import re\n",
    "\n",
    "locale.setlocale(locale.LC_TIME, 'pt_BR.utf8')"
   ]
  },
  {
   "cell_type": "code",
   "execution_count": null,
   "metadata": {},
   "outputs": [],
   "source": [
    "def str_cleasing(str):\n",
    "    str = re.sub(r'\\n', ' ', str)\n",
    "    str = re.sub(r'\\s+', ' ', str)\n",
    "    str = re.sub(r'\\s+$', ' ', str)\n",
    "    str = re.sub(r'^\\s+', ' ', str)\n",
    "    str = re.sub(r'  ', ' ', str)\n",
    "    str = re.sub(r'  ', ' ', str)\n",
    "    str = re.sub(r'  ', ' ', str)\n",
    "    str = re.sub(r'  ', ' ', str)\n",
    "    str = re.sub(r'  ', ' ', str)\n",
    "    str = re.sub(r'  ', ' ', str)\n",
    "    return str"
   ]
  },
  {
   "cell_type": "code",
   "execution_count": 2,
   "metadata": {},
   "outputs": [],
   "source": [
    "class ODia:\n",
    "\n",
    "    def __init__(self, base_url='https://odia.ig.com.br/'):\n",
    "        self.base_url = base_url\n",
    "    \n",
    "    def yesterday_url_str(self):\n",
    "        ontem = datetime.now() - timedelta(days=1)\n",
    "        data_formatada = ontem.strftime('%d/%m/%Y')\n",
    "        return data_formatada\n",
    "    \n",
    "\n",
    "    def getUrls(self, url, word):\n",
    "        try:\n",
    "            browsers = {'User-Agent': \"Mozilla/5.0 (Windows NT 10.0; Win64; x64) AppleWebKit/537.36 (KHTML, like Gecko) Chrome / 86.0.4240.198Safari / 537.36\"}\n",
    "            page = requests.get(url, headers = browsers)\n",
    "            resposta = page.text\n",
    "            soup = BeautifulSoup(resposta, 'html.parser')\n",
    "            allHrefs = soup.find_all('a')\n",
    "\n",
    "            selectedUrls = []\n",
    "            for a in allHrefs:\n",
    "                newsUrl = a.get('href')\n",
    "                if newsUrl is not None and word in newsUrl and not newsUrl.endswith(word):\n",
    "                    selectedUrls.append(f\"https://odia.ig.com.br{newsUrl}\")\n",
    "            selectedUrls = list(dict.fromkeys(selectedUrls))\n",
    "            return selectedUrls\n",
    "        except:\n",
    "            return []\n",
    "\n",
    "    def getNewsData(self, url, only_yesterday=True):\n",
    "        try:\n",
    "            headers = {'User-Agent': \"Mozilla/5.0 (Windows NT 10.0; Win64; x64) AppleWebKit/537.36 (KHTML, like Gecko) Chrome / 86.0.4240.198Safari / 537.36\"}\n",
    "            page = requests.get(url, headers = headers)\n",
    "            \n",
    "            resposta = page.text\n",
    "            soup = BeautifulSoup(resposta, 'html.parser')\n",
    "\n",
    "            title = soup.find('h1').get_text()\n",
    "            title = str_cleasing(title)\n",
    "            title = re.sub(r'\\s+', ' ', title).strip()\n",
    "            \n",
    "            timestamp = soup.find('time', class_=\"published\").get_text()\n",
    "            isYesterday = self.yesterday_url_str() in timestamp\n",
    "            \n",
    "            content = \"\"\n",
    "            contentHtml = soup.find_all('div', class_=\"texto\")\n",
    "            for c in contentHtml:\n",
    "                content += c.get_text()\n",
    "                content = str_cleasing(content)\n",
    "                content += '\\n'\n",
    "            \n",
    "            if only_yesterday and not isYesterday:\n",
    "                return None\n",
    "        \n",
    "            return {\n",
    "                \"url\": url,\n",
    "                \"title\": title,\n",
    "                \"content\": content\n",
    "            }\n",
    "        except:\n",
    "            return None\n"
   ]
  }
 ],
 "metadata": {
  "kernelspec": {
   "display_name": "Python 3",
   "language": "python",
   "name": "python3"
  },
  "language_info": {
   "codemirror_mode": {
    "name": "ipython",
    "version": 3
   },
   "file_extension": ".py",
   "mimetype": "text/x-python",
   "name": "python",
   "nbconvert_exporter": "python",
   "pygments_lexer": "ipython3",
   "version": "3.12.0"
  }
 },
 "nbformat": 4,
 "nbformat_minor": 2
}
