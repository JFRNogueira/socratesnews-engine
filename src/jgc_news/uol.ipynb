{
 "cells": [
  {
   "cell_type": "code",
   "execution_count": null,
   "metadata": {},
   "outputs": [],
   "source": [
    "import requests\n",
    "from bs4 import BeautifulSoup\n",
    "from datetime import datetime, timedelta\n",
    "import re"
   ]
  },
  {
   "cell_type": "code",
   "execution_count": 3,
   "metadata": {},
   "outputs": [],
   "source": [
    "class Uol:\n",
    "\n",
    "    def __init__(self, html):\n",
    "        self.html = html\n",
    "        self.title = self.get_title()\n",
    "        self.text = self.get_text()\n",
    "        self.imageUrl, self.imageText = self.get_image()\n",
    "    \n",
    "\n",
    "    def get_title(self):\n",
    "        try:\n",
    "            title = self.html.find('h1', class_='title').get_text()\n",
    "            return title.strip()\n",
    "        except:\n",
    "            return None\n",
    "\n",
    "\n",
    "    def get_text(self):\n",
    "        try:\n",
    "            content = \"\"            \n",
    "            contentBody = self.html.find_all('p', class_='bullet')\n",
    "            for p in contentBody:\n",
    "                content += p.get_text()\n",
    "                content += \"\\n\"\n",
    "            content = re.sub(r'\\s+', ' ', content).strip()\n",
    "            return content\n",
    "        except:\n",
    "            return None\n",
    "\n",
    "\n",
    "    def get_image(self):\n",
    "        try:\n",
    "            imageUrl = self.html.find('figure', class_='featured-image').find('img').get('src')\n",
    "            imageText = self.html.find('figcaption', class_='solar-caption').find('span').get_text()\n",
    "            return imageUrl, imageText\n",
    "        except:\n",
    "            return None, None"
   ]
  }
 ],
 "metadata": {
  "kernelspec": {
   "display_name": "Python 3",
   "language": "python",
   "name": "python3"
  },
  "language_info": {
   "codemirror_mode": {
    "name": "ipython",
    "version": 3
   },
   "file_extension": ".py",
   "mimetype": "text/x-python",
   "name": "python",
   "nbconvert_exporter": "python",
   "pygments_lexer": "ipython3",
   "version": "3.12.0"
  }
 },
 "nbformat": 4,
 "nbformat_minor": 2
}
