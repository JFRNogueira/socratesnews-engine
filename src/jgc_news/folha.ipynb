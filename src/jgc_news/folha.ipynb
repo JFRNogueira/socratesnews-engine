{
 "cells": [
  {
   "cell_type": "code",
   "execution_count": 1,
   "metadata": {},
   "outputs": [
    {
     "data": {
      "text/plain": [
       "'pt_BR.utf8'"
      ]
     },
     "execution_count": 1,
     "metadata": {},
     "output_type": "execute_result"
    }
   ],
   "source": [
    "import requests\n",
    "from bs4 import BeautifulSoup\n",
    "from datetime import datetime, timedelta\n",
    "import locale\n",
    "import re\n",
    "\n",
    "locale.setlocale(locale.LC_TIME, 'pt_BR.utf8')"
   ]
  },
  {
   "cell_type": "code",
   "execution_count": 2,
   "metadata": {},
   "outputs": [],
   "source": [
    "def str_cleasing(str):\n",
    "    str = re.sub(r'\\n', ' ', str)\n",
    "    str = re.sub(r'\\s+', ' ', str)\n",
    "    str = re.sub(r'\\s+$', ' ', str)\n",
    "    str = re.sub(r'^\\s+', ' ', str)\n",
    "    str = re.sub(r'  ', ' ', str)\n",
    "    str = re.sub(r'  ', ' ', str)\n",
    "    str = re.sub(r'  ', ' ', str)\n",
    "    str = re.sub(r'  ', ' ', str)\n",
    "    str = re.sub(r'  ', ' ', str)\n",
    "    str = re.sub(r'  ', ' ', str)\n",
    "    return str"
   ]
  },
  {
   "cell_type": "code",
   "execution_count": 3,
   "metadata": {},
   "outputs": [],
   "source": [
    "class Folha:\n",
    "\n",
    "    def __init__(self, base_url='https://www.uol.com.br/'):\n",
    "        self.base_url = base_url\n",
    "    \n",
    "    def yesterday_url_str(self):\n",
    "        meses_abreviados = {\n",
    "            1: \"jan\",\n",
    "            2: \"fev\",\n",
    "            3: \"mar\",\n",
    "            4: \"abr\",\n",
    "            5: \"mai\",\n",
    "            6: \"jun\",\n",
    "            7: \"jul\",\n",
    "            8: \"ago\",\n",
    "            9: \"set\",\n",
    "            10: \"out\",\n",
    "            11: \"nov\",\n",
    "            12: \"dez\"\n",
    "        }\n",
    "        ontem = datetime.now() - timedelta(days=1)\n",
    "        data_formatada = f\"{ontem.day}.{meses_abreviados[ontem.month]}.{ontem.year}\"\n",
    "        return data_formatada\n",
    "\n",
    "    def yesterday_url_str_month(self):\n",
    "        ontem = datetime.now() - timedelta(days=1)\n",
    "        data_formatada = ontem.strftime('/%Y/%m/')\n",
    "        return data_formatada\n",
    "\n",
    "\n",
    "    def getUrls(self, url, only_yesterday_month=True):\n",
    "        try:\n",
    "            headers = {'User-Agent': \"Mozilla/5.0 (Windows NT 10.0; Win64; x64) AppleWebKit/537.36 (KHTML, like Gecko) Chrome / 86.0.4240.198Safari / 537.36\"}\n",
    "            response = requests.get(url, headers=headers)\n",
    "            soup = BeautifulSoup(response.text, 'html.parser')\n",
    "            all_hrefs = soup.find_all('a', class_='c-headline__url') + soup.find_all('a', class_='c-main-headline__url')\n",
    "            urls = []\n",
    "            for a in all_hrefs:\n",
    "                href = a.get('href')\n",
    "                if href is not None:\n",
    "                    if only_yesterday_month and self.yesterday_url_str_month() in href:\n",
    "                        urls.append(href)\n",
    "                    elif not only_yesterday_month:\n",
    "                        urls.append(href)\n",
    "            return list(set(urls))\n",
    "        except:\n",
    "            return []\n",
    "\n",
    "\n",
    "    def getNewsData(self, url, only_yesterday=True):\n",
    "        try:\n",
    "            headers = {'User-Agent': \"Mozilla/5.0 (Windows NT 10.0; Win64; x64) AppleWebKit/537.36 (KHTML, like Gecko) Chrome / 86.0.4240.198Safari / 537.36\"}\n",
    "            page = requests.get(url, headers = headers)\n",
    "            \n",
    "            resposta = page.text\n",
    "            soup = BeautifulSoup(resposta, 'html.parser')\n",
    "\n",
    "            title = soup.find('h1', class_=\"c-content-head__title\") or soup.find('h1', class_=\"news__title\") \n",
    "            title = str_cleasing(title.get_text()).strip()\n",
    "            \n",
    "            timestamp = soup.find('time', itemprop='datePublished')\n",
    "            isYesterday = self.yesterday_url_str() in timestamp\n",
    "            \n",
    "            content = \"\"\n",
    "            contentHtml = soup.find('div', class_=\"c-news__body\") or soup.find('div', class_=\"news__content\")\n",
    "            for c in contentHtml.find_all('p'):\n",
    "                content += c.get_text()\n",
    "                content = str_cleasing(content)\n",
    "                content += '\\n'\n",
    "            \n",
    "            if only_yesterday and not isYesterday:\n",
    "                return None\n",
    "                \n",
    "            return {\n",
    "                \"url\": url,\n",
    "                \"title\": title,\n",
    "                \"content\": content\n",
    "            }\n",
    "        except:\n",
    "            return None\n"
   ]
  }
 ],
 "metadata": {
  "kernelspec": {
   "display_name": "Python 3",
   "language": "python",
   "name": "python3"
  },
  "language_info": {
   "codemirror_mode": {
    "name": "ipython",
    "version": 3
   },
   "file_extension": ".py",
   "mimetype": "text/x-python",
   "name": "python",
   "nbconvert_exporter": "python",
   "pygments_lexer": "ipython3",
   "version": "3.12.0"
  }
 },
 "nbformat": 4,
 "nbformat_minor": 2
}
