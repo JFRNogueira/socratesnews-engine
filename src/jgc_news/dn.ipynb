{
 "cells": [
  {
   "cell_type": "code",
   "execution_count": null,
   "metadata": {},
   "outputs": [],
   "source": [
    "import requests\n",
    "from bs4 import BeautifulSoup\n",
    "from datetime import datetime, timedelta\n",
    "import locale\n",
    "\n",
    "locale.setlocale(locale.LC_TIME, 'pt_BR.utf8')"
   ]
  },
  {
   "cell_type": "code",
   "execution_count": 3,
   "metadata": {},
   "outputs": [],
   "source": [
    "class DN:\n",
    "\n",
    "    def __init__(self, base_url='https://diariodonordeste.verdesmares.com.br/'):\n",
    "        self.base_url = base_url\n",
    "    \n",
    "    def yesterday_url_str(self):\n",
    "        ontem = datetime.now() - timedelta(days=1)\n",
    "        data_formatada = ontem.strftime('%d de %B de %Y')\n",
    "        data_formatada = data_formatada.replace(data_formatada.split()[2], data_formatada.split()[2].capitalize())\n",
    "        return data_formatada\n",
    "\n",
    "    def getUrls(self, url, word):\n",
    "        browsers = {'User-Agent': \"Mozilla/5.0 (Windows NT 10.0; Win64; x64) AppleWebKit/537.36 (KHTML, like Gecko) Chrome / 86.0.4240.198Safari / 537.36\"}\n",
    "        page = requests.get(url, headers = browsers)\n",
    "        resposta = page.text\n",
    "        soup = BeautifulSoup(resposta, 'html.parser')\n",
    "        allHrefs = soup.find_all('a')\n",
    "\n",
    "        selectedUrls = []\n",
    "        for a in allHrefs:\n",
    "            newsUrl = a.get('href')\n",
    "            if (word in newsUrl) & ('?page=' not in newsUrl):\n",
    "                selectedUrls.append(f'https://diariodonordeste.verdesmares.com.br{newsUrl}')\n",
    "        selectedUrls = list(dict.fromkeys(selectedUrls))\n",
    "        return selectedUrls\n",
    "        \n",
    "\n",
    "    def getNewsData(self, url):\n",
    "        browsers = {'User-Agent': \"Mozilla/5.0 (Windows NT 10.0; Win64; x64) AppleWebKit/537.36 (KHTML, like Gecko) Chrome / 86.0.4240.198Safari / 537.36\"}\n",
    "        page = requests.get(url, headers = browsers)\n",
    "        resposta = page.text\n",
    "        soup = BeautifulSoup(resposta, 'html.parser')\n",
    "\n",
    "        title = soup.find('h1', class_=\"content-head__title\").get_text()\n",
    "        content = \"\"\n",
    "\n",
    "        for p in soup.find_all('p', class_=\"content-text__container\"):\n",
    "            content += p.get_text()\n",
    "            content += \"\\n\"\n",
    "        \n",
    "        content = re.sub(r'\\s+', ' ', content).strip()\n",
    "\n",
    "        return {\n",
    "            \"url\": url,\n",
    "            \"title\": title,\n",
    "            \"content\": content\n",
    "        }\n"
   ]
  }
 ],
 "metadata": {
  "kernelspec": {
   "display_name": "Python 3",
   "language": "python",
   "name": "python3"
  },
  "language_info": {
   "codemirror_mode": {
    "name": "ipython",
    "version": 3
   },
   "file_extension": ".py",
   "mimetype": "text/x-python",
   "name": "python",
   "nbconvert_exporter": "python",
   "pygments_lexer": "ipython3",
   "version": "3.12.0"
  }
 },
 "nbformat": 4,
 "nbformat_minor": 2
}
