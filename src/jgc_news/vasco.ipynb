{
 "cells": [
  {
   "cell_type": "code",
   "execution_count": null,
   "metadata": {},
   "outputs": [],
   "source": [
    "import requests\n",
    "from bs4 import BeautifulSoup\n",
    "from datetime import datetime, timedelta\n",
    "import re"
   ]
  },
  {
   "cell_type": "code",
   "execution_count": 3,
   "metadata": {},
   "outputs": [],
   "source": [
    "class Vasco:\n",
    "\n",
    "    def __init__(self, url):\n",
    "        self.url = url\n",
    "        # self.suburls = self.get_suburls()\n",
    "        self.html = self.get_html()\n",
    "        self.title = self.get_title()\n",
    "        self.text = self.get_text()\n",
    "\n",
    "\n",
    "    def get_suburls(self):\n",
    "        try:\n",
    "            headers = {'User-Agent': \"Mozilla/5.0 (Windows NT 10.0; Win64; x64) AppleWebKit/537.36 (KHTML, like Gecko) Chrome / 86.0.4240.198Safari / 537.36\"}\n",
    "            response = requests.get(self.url, headers=headers)\n",
    "            soup = BeautifulSoup(response.text, 'html.parser')\n",
    "            all_hrefs = soup.find_all('a')\n",
    "            urls = []\n",
    "            for a in all_hrefs:\n",
    "                href = a.get('href')\n",
    "                if href is not None:\n",
    "                    urls.append(href)\n",
    "            return list(set(urls))\n",
    "        except:\n",
    "            return []\n",
    "\n",
    "\n",
    "    def get_html(self):\n",
    "        try:\n",
    "            browsers = {'User-Agent': \"Mozilla/5.0 (Windows NT 10.0; Win64; x64) AppleWebKit/537.36 (KHTML, like Gecko) Chrome / 86.0.4240.198Safari / 537.36\"}\n",
    "            page = requests.get(self.url, headers = browsers)\n",
    "            resposta = page.text\n",
    "            soup = BeautifulSoup(resposta, 'html.parser')\n",
    "            return soup\n",
    "        except:\n",
    "            return None\n",
    "\n",
    "\n",
    "    def get_title(self):\n",
    "        try:\n",
    "            title = self.html.find('h1', class_=\"page-title\").get_text()\n",
    "            return title.strip()\n",
    "        except:\n",
    "            return None\n",
    "\n",
    "\n",
    "    def get_text(self):\n",
    "        try:\n",
    "            content = \"\"\n",
    "            for p in self.html.find('div', class_='mb-5').find_all('p'):\n",
    "                content += p.get_text()\n",
    "                content += \"\\n\"\n",
    "            content = re.sub(r'\\s+', ' ', content).strip()\n",
    "            return content\n",
    "        except:\n",
    "            return None\n"
   ]
  }
 ],
 "metadata": {
  "kernelspec": {
   "display_name": "Python 3",
   "language": "python",
   "name": "python3"
  },
  "language_info": {
   "codemirror_mode": {
    "name": "ipython",
    "version": 3
   },
   "file_extension": ".py",
   "mimetype": "text/x-python",
   "name": "python",
   "nbconvert_exporter": "python",
   "pygments_lexer": "ipython3",
   "version": "3.12.0"
  }
 },
 "nbformat": 4,
 "nbformat_minor": 2
}
