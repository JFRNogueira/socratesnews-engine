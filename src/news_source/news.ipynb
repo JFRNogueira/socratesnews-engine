{
 "cells": [
  {
   "cell_type": "code",
   "execution_count": null,
   "metadata": {},
   "outputs": [],
   "source": [
    "class News:\n",
    "\n",
    "    def __init__(self, source, url, title, timestamp):\n",
    "        self.source = source\n",
    "        self.url = url\n",
    "        self.title = title\n",
    "        self.timestamp = timestamp\n",
    "\n",
    "\n",
    "    "
   ]
  }
 ],
 "metadata": {
  "language_info": {
   "name": "python"
  }
 },
 "nbformat": 4,
 "nbformat_minor": 2
}
