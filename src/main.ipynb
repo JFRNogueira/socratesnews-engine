{
 "cells": [
  {
   "cell_type": "code",
   "execution_count": 11,
   "metadata": {},
   "outputs": [],
   "source": [
    "import requests\n",
    "from bs4 import BeautifulSoup\n",
    "from datetime import datetime, timedelta\n",
    "import json\n",
    "from dotenv import load_dotenv\n",
    "import os\n",
    "\n",
    "load_dotenv()\n",
    "API_URL = os.getenv(\"API_URL\")\n",
    "\n",
    "# %run \"./news_source/google_alert_xml.ipynb\" import GoogleAlertXml\n",
    "# %run \"./news_source/socratesnews.ipynb\" import SocratesNews\n",
    "%run \"./infantil/infantil.ipynb\" import Infantil\n",
    "%run \"./utils/datehelper.ipynb\" import DateHelpers\n"
   ]
  },
  {
   "cell_type": "code",
   "execution_count": 12,
   "metadata": {},
   "outputs": [
    {
     "name": "stdout",
     "output_type": "stream",
     "text": [
      "--------------------------------------------\n",
      "- Iniciando a confecção do Jornal Sócrates -\n",
      "--------------------------------------------\n",
      "\n",
      "Edição do dia: Sexta-feira, 23 de agosto de 2024\n",
      "\n",
      "\n",
      "\n",
      "SEÇÃO INFANTIL\n",
      "\n",
      "Opções de tema para a seção infantil do dia:\n",
      "#0 - Personalizar tema\n",
      "#1 - Dia do Aviador Naval\n",
      "#2 - Dia de Luta Contra a Injustiça\n",
      "#3 - Dia da Intendência\n",
      "#4 - Dia de Santa Rosa de Lima\n",
      "Escolha o tema da seção infantil de hoje:\n",
      "\n",
      "O tema escolhido foi: Dia do Aviador Naval\n",
      "Notícia 1:\n"
     ]
    }
   ],
   "source": [
    "print('--------------------------------------------')\n",
    "print('- Iniciando a confecção do Jornal Sócrates -')\n",
    "print('--------------------------------------------\\n')\n",
    "\n",
    "edition = DateHelpers()\n",
    "print(f'Edição do dia: {edition.date_str}\\n')\n",
    "\n",
    "print('\\n\\nSEÇÃO INFANTIL\\n')\n",
    "infantil = Infantil(edition.date, edition.date_str)\n",
    "\n",
    "print('Notícia 1:')\n",
    "# print(infantil.news1_header)\n",
    "# print(infantil.news1_text)\n",
    "# print(infantil.news1_imageUrl)\n",
    "# print(infantil.news2_text)\n",
    "# print(infantil.news2_imageUrl)\n",
    "# print(infantil.news3_text)\n",
    "# print(infantil.news3_imageUrl)\n"
   ]
  },
  {
   "cell_type": "code",
   "execution_count": 13,
   "metadata": {},
   "outputs": [
    {
     "name": "stdout",
     "output_type": "stream",
     "text": [
      "Você sabia que a escova de dentes tem uma história muito antiga? A primeiros registros de escovas de dente datam de aproximadamente 3000 a.C. na antiga Mesopotâmia! Naquela época, as pessoas usavam um objeto chamado \"ramo de árvore de miswak\", que era mastigado em uma das extremidades para fazer uma espécie de escova. Mas a escova de dentes como conhecemos hoje começou a ser desenvolvida na Europa, em 1780, quando um homem chamado William Addis fez a primeira escova de dentes com cabo de madeira e cerdas feitas de pelos de animais! Hoje, com a tecnologia, as escovas de dentes vêm em diversas formas e cores, e algumas até possuem partes elétricas para escovar melhor os dentes. E você sabia que o escovar os dentes ajuda a prevenir cáries e mantém o sorriso saudável? Por isso, escove sempre os dentes três vezes ao dia e tenha um sorriso radiante!\n",
      "Você sabia que as aves são os únicos animais que têm penas? As penas fazem muito mais do que simplesmente deixar os pássaros bonitos. Elas ajudam na proteção do corpo, na temperatura e, claro, são essenciais para o voo. Existem mais de 10.000 espécies diferentes de pássaros no mundo, e cada um tem suas próprias cores e padrões incríveis. Por exemplo, o colibri é tão pequeno que alguns podem caber na palma da sua mão, enquanto o estruso é o maior pássaro do mundo e pode chegar a quase três metros de altura! E tem mais: os pássaros também são ótimos cantores! Muitos machos cantam para atrair as fêmeas e marcar seu território. Além disso, algumas espécies de pássaros, como as andorinhas, são migratórias e viajam milhares de quilômetros em busca de lugares mais quentes. O mundo das aves é fascinante e cheio de surpresas! Que tal observar os pássaros ao seu redor e descobrir mais sobre eles?\n"
     ]
    }
   ],
   "source": [
    "print(infantil.news2_text)\n",
    "# print(infantil.news2_imageUrl)\n",
    "print(infantil.news3_text)\n",
    "# print(infantil.news3_imageUrl)"
   ]
  },
  {
   "cell_type": "code",
   "execution_count": 14,
   "metadata": {},
   "outputs": [],
   "source": [
    "# url = f'{API_URL}/api/newssource'\n",
    "# browsers = {'User-Agent': \"Mozilla/5.0 (Windows NT 10.0; Win64; x64) AppleWebKit/537.36 (KHTML, like Gecko) Chrome / 86.0.4240.198Safari / 537.36\"}\n",
    "# response = requests.get(url, headers = browsers)\n",
    "# if response.status_code != 200:\n",
    "#     print('Erro na requisição.')\n",
    "\n",
    "# newsSource = json.loads(response.content)\n",
    "# googleAlertXml = None\n",
    "# news = ''\n",
    "\n",
    "# # counter = 0\n",
    "# # for news in newsSource:\n",
    "# #     print(f'{counter} - {news['sectionArr']}')\n",
    "# #     counter += 1\n",
    "\n",
    "\n",
    "# for ns in [newsSource[15]]:\n",
    "#     googleAlertXml = GoogleAlertXml(ns['newsSource'], ns['sectionId'], ns['sectionName'], ns['sectionArr'], ns['tags'])\n",
    "    \n",
    "#     news = SocratesNews(googleAlertXml.news_data, googleAlertXml.sectionId, googleAlertXml.sectionArr, googleAlertXml.tags)\n",
    "#     news.filter_news()\n",
    "#     news.filter_news()\n",
    "#     news.filter_news()\n",
    "#     news.show_news_data()\n"
   ]
  },
  {
   "cell_type": "code",
   "execution_count": 15,
   "metadata": {},
   "outputs": [],
   "source": [
    "# print(news.script)\n",
    "# print(news.news)\n",
    "# print(news.sectionId)\n",
    "# print(news.sectionArr)\n",
    "# print(news.tags)"
   ]
  }
 ],
 "metadata": {
  "kernelspec": {
   "display_name": "Python 3",
   "language": "python",
   "name": "python3"
  },
  "language_info": {
   "codemirror_mode": {
    "name": "ipython",
    "version": 3
   },
   "file_extension": ".py",
   "mimetype": "text/x-python",
   "name": "python",
   "nbconvert_exporter": "python",
   "pygments_lexer": "ipython3",
   "version": "3.12.0"
  }
 },
 "nbformat": 4,
 "nbformat_minor": 2
}
