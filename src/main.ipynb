{
 "cells": [
  {
   "cell_type": "code",
   "execution_count": 13,
   "metadata": {},
   "outputs": [],
   "source": [
    "import requests\n",
    "from bs4 import BeautifulSoup\n",
    "from datetime import datetime, timedelta\n",
    "import json\n",
    "from dotenv import load_dotenv\n",
    "import os\n",
    "\n",
    "load_dotenv()\n",
    "API_URL = os.getenv(\"API_URL\")\n",
    "\n",
    "%run \"./news_source/google_alert_xml.ipynb\" import GoogleAlertXml\n",
    "%run \"./news_source/socratesnews.ipynb\" import SocratesNews"
   ]
  },
  {
   "cell_type": "code",
   "execution_count": 14,
   "metadata": {},
   "outputs": [
    {
     "name": "stderr",
     "output_type": "stream",
     "text": [
      "[nltk_data] Downloading package stopwords to\n",
      "[nltk_data]     C:\\Users\\johan\\AppData\\Roaming\\nltk_data...\n",
      "[nltk_data]   Package stopwords is already up-to-date!\n"
     ]
    }
   ],
   "source": [
    "url = f'{API_URL}/api/newssource'\n",
    "browsers = {'User-Agent': \"Mozilla/5.0 (Windows NT 10.0; Win64; x64) AppleWebKit/537.36 (KHTML, like Gecko) Chrome / 86.0.4240.198Safari / 537.36\"}\n",
    "response = requests.get(url, headers = browsers)\n",
    "if response.status_code != 200:\n",
    "    print('Erro na requisição.')\n",
    "\n",
    "newsSource = json.loads(response.content)\n",
    "googleAlertXml = None\n",
    "news = ''\n",
    "\n",
    "# counter = 0\n",
    "# for news in newsSource:\n",
    "#     print(f'{counter} - {news['sectionArr']}')\n",
    "#     counter += 1\n",
    "\n",
    "\n",
    "for ns in [newsSource[15]]:\n",
    "    googleAlertXml = GoogleAlertXml(ns['newsSource'], ns['sectionId'], ns['sectionName'], ns['sectionArr'], ns['tags'])\n",
    "    \n",
    "    news = SocratesNews(googleAlertXml.news_data, googleAlertXml.sectionId, googleAlertXml.sectionArr, googleAlertXml.tags)\n",
    "    news.filter_news()\n",
    "    news.filter_news()\n",
    "    news.filter_news()\n",
    "    news.show_news_data()\n"
   ]
  },
  {
   "cell_type": "code",
   "execution_count": 16,
   "metadata": {},
   "outputs": [
    {
     "name": "stdout",
     "output_type": "stream",
     "text": [
      "Escreva um texto jornalístico sem muita enrolação entre 400 e 500 palavras que será publicado em um jornal de grande circulação falando sobre um time de futebol brasileiro, o Fortaleza EC.\n",
      "Crie o texto em linguagem direta e apenas com informações relevantes sobre o time de futebol Fortaleza EC.\n",
      "Considere como referêcia exclusivamente o que foi extraído de alguns sites de prestígio, elencados abaixo.\n",
      "\n",
      "\n",
      "{'title': 'Fortaleza EC: Um Novo Capítulo na História do Futebol Brasileiro', 'content': 'O Fortaleza Esporte Clube, fundado em 18 de outubro de 1918, é um dos clubes mais tradicionais do futebol brasileiro, com sede na capital cearense. Nos últimos anos, o time tem se destacado não apenas no cenário regional, mas também em competições nacionais e internacionais, consolidando-se como uma força emergente no futebol brasileiro.\\n\\nNa temporada de 2023, o Fortaleza teve um desempenho notável no Campeonato Brasileiro, onde se destacou pela consistência e pela qualidade do seu elenco. Sob o comando do técnico Juan Pablo Vojvoda, o time apresentou um futebol ofensivo e organizado, conquistando vitórias importantes que o mantiveram na parte superior da tabela. A equipe se destacou pela solidez defensiva e pela capacidade de criar oportunidades de gol, refletindo o trabalho tático do treinador argentino.\\n\\nUm dos pontos altos da temporada foi a participação do Fortaleza na Copa do Brasil, onde o clube chegou até as fases finais, enfrentando adversários de peso e mostrando sua força em jogos decisivos. A torcida, conhecida por seu fervor e paixão, lotou o Estádio Castelão, criando um ambiente intimidante para os visitantes. O apoio incondicional da torcida tem sido um dos pilares do sucesso do clube, que se orgulha de ter uma das maiores médias de público do país.\\n\\nAlém do desempenho em campo, o Fortaleza também tem se destacado pela gestão administrativa. O clube tem investido em infraestrutura, com melhorias no centro de treinamento e no estádio, visando proporcionar melhores condições para jogadores e torcedores. Essa visão de longo prazo tem atraído novos patrocinadores e ampliado a base de sócios-torcedores, fortalecendo a saúde financeira do clube.\\n\\nOs jogadores também têm sido protagonistas nessa trajetória de sucesso. Nomes como o atacante Moisés e o meia Lucas Lima têm se destacado, contribuindo com gols e assistências que foram cruciais para o desempenho da equipe. A base do Fortaleza também tem se mostrado forte, com jovens talentos surgindo e ganhando espaço no time principal, o que demonstra a preocupação do clube em formar atletas e não apenas contratá-los.\\n\\nO Fortaleza EC também tem se aventurado em competições internacionais, como a Copa Sul-Americana, onde a equipe busca consolidar sua presença no cenário continental. A participação em torneios internacionais é um passo importante para o clube, que almeja não apenas competir, mas também se tornar uma referência no futebol sul-americano.\\n\\nCom uma história rica e um futuro promissor, o Fortaleza EC se posiciona como um dos clubes mais respeitados do Brasil. A combinação de uma gestão eficiente, um elenco talentoso e uma torcida apaixonada promete levar o clube a novos patamares nos próximos anos. O Fortaleza não é apenas um time de futebol; é um símbolo de luta e superação, que continua a escrever sua história com garra e determinação.'}\n",
      "66ad2a83b591d67921fadc47\n",
      "['Esporte', 'Futebol', 'Fortaleza EC']\n",
      "['Futebol', 'Fortaleza EC']\n"
     ]
    }
   ],
   "source": [
    "print(news.script)\n",
    "print(news.news)\n",
    "print(news.sectionId)\n",
    "print(news.sectionArr)\n",
    "print(news.tags)"
   ]
  }
 ],
 "metadata": {
  "kernelspec": {
   "display_name": "Python 3",
   "language": "python",
   "name": "python3"
  },
  "language_info": {
   "codemirror_mode": {
    "name": "ipython",
    "version": 3
   },
   "file_extension": ".py",
   "mimetype": "text/x-python",
   "name": "python",
   "nbconvert_exporter": "python",
   "pygments_lexer": "ipython3",
   "version": "3.12.0"
  }
 },
 "nbformat": 4,
 "nbformat_minor": 2
}
