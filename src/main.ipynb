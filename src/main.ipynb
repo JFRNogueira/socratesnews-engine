{
 "cells": [
  {
   "cell_type": "code",
   "execution_count": 29,
   "metadata": {},
   "outputs": [],
   "source": [
    "import requests\n",
    "from bs4 import BeautifulSoup\n",
    "from datetime import datetime, timedelta\n",
    "import json\n",
    "import re\n",
    "\n",
    "%run \"./news_source/google_alert_xml.ipynb\" import GoogleAlertXml"
   ]
  },
  {
   "cell_type": "code",
   "execution_count": 31,
   "metadata": {},
   "outputs": [
    {
     "name": "stdout",
     "output_type": "stream",
     "text": [
      "<__main__.News object at 0x000002A62A00F770>\n"
     ]
    }
   ],
   "source": [
    "url = 'http://localhost:3000/api/newssource'\n",
    "browsers = {'User-Agent': \"Mozilla/5.0 (Windows NT 10.0; Win64; x64) AppleWebKit/537.36 (KHTML, like Gecko) Chrome / 86.0.4240.198Safari / 537.36\"}\n",
    "response = requests.get(url, headers = browsers)\n",
    "if response.status_code != 200:\n",
    "    print('Erro na requisição.')\n",
    "\n",
    "newsSource = json.loads(response.content)\n",
    "googleAlertXml = None\n",
    "for ns in [newsSource[0]]:\n",
    "    googleAlertXml = GoogleAlertXml(ns['newsSource'], ns['sectionId'], ns['sectionName'], ns['sectionArr'], ns['tags'])\n",
    "    \n",
    "\n",
    "print(googleAlertXml.news_metadata[0].title)"
   ]
  },
  {
   "cell_type": "code",
   "execution_count": null,
   "metadata": {},
   "outputs": [],
   "source": []
  }
 ],
 "metadata": {
  "kernelspec": {
   "display_name": "Python 3",
   "language": "python",
   "name": "python3"
  },
  "language_info": {
   "codemirror_mode": {
    "name": "ipython",
    "version": 3
   },
   "file_extension": ".py",
   "mimetype": "text/x-python",
   "name": "python",
   "nbconvert_exporter": "python",
   "pygments_lexer": "ipython3",
   "version": "3.12.0"
  }
 },
 "nbformat": 4,
 "nbformat_minor": 2
}
