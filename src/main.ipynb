{
 "cells": [
  {
   "cell_type": "code",
   "execution_count": 80,
   "metadata": {},
   "outputs": [
    {
     "name": "stdout",
     "output_type": "stream",
     "text": [
      "<Response [429]>\n",
      "Erro ao acessar a página: 429\n",
      "<Response [429]>\n",
      "Erro ao acessar a página: 429\n",
      "<Response [429]>\n",
      "Erro ao acessar a página: 429\n",
      "<Response [429]>\n",
      "Erro ao acessar a página: 429\n",
      "<Response [429]>\n",
      "Erro ao acessar a página: 429\n"
     ]
    }
   ],
   "source": [
    "\n",
    "from datetime import datetime, timedelta\n",
    "from dotenv import load_dotenv\n",
    "import os\n",
    "import requests\n",
    "\n",
    "load_dotenv()\n",
    "API_URL = os.getenv(\"API_URL\")\n",
    "\n",
    "%run \"./news_source/news_source.ipynb\" import NewsSource\n",
    "# %run \"./news_source/google_alert_xml.ipynb\" import GoogleAlertXml\n",
    "# %run \"./news_source/socratesnews.ipynb\" import SocratesNews\n",
    "# %run \"./infantil/infantil.ipynb\" import Infantil\n",
    "# %run \"./utils/datehelper.ipynb\" import DateHelpers\n",
    "# %run \"./section/section.ipynb\" import Section\n"
   ]
  },
  {
   "cell_type": "code",
   "execution_count": 34,
   "metadata": {},
   "outputs": [],
   "source": [
    "# edition = DateHelpers()"
   ]
  },
  {
   "cell_type": "code",
   "execution_count": 35,
   "metadata": {},
   "outputs": [],
   "source": [
    "# infantil = Infantil(edition.date, edition.date_str)"
   ]
  },
  {
   "cell_type": "code",
   "execution_count": 36,
   "metadata": {},
   "outputs": [],
   "source": [
    "# section = Section()"
   ]
  },
  {
   "cell_type": "code",
   "execution_count": 81,
   "metadata": {},
   "outputs": [
    {
     "data": {
      "application/vnd.jupyter.widget-view+json": {
       "model_id": "22dc0b4dc157420d81217f898afcb596",
       "version_major": 2,
       "version_minor": 0
      },
      "text/plain": [
       "Dropdown(description='Mundo:', layout=Layout(width='70%'), options=('Mar pode subir até 21 cm em duas cidades …"
      ]
     },
     "metadata": {},
     "output_type": "display_data"
    },
    {
     "data": {
      "application/vnd.jupyter.widget-view+json": {
       "model_id": "753c5c57a5e445edb3a29148a90ac4c4",
       "version_major": 2,
       "version_minor": 0
      },
      "text/plain": [
       "Button(button_style='success', description='Gerar notícias', icon='check', layout=Layout(width='20%'), style=B…"
      ]
     },
     "metadata": {},
     "output_type": "display_data"
    },
    {
     "data": {
      "application/vnd.jupyter.widget-view+json": {
       "model_id": "f00e50eaa8224b7fa4c796a313bc7a17",
       "version_major": 2,
       "version_minor": 0
      },
      "text/plain": [
       "Output()"
      ]
     },
     "metadata": {},
     "output_type": "display_data"
    }
   ],
   "source": [
    "newssource = NewsSource(section.sectionId)"
   ]
  },
  {
   "cell_type": "code",
   "execution_count": 84,
   "metadata": {},
   "outputs": [
    {
     "name": "stdout",
     "output_type": "stream",
     "text": [
      "https://s2-g1.glbimg.com/oPB6AtDxAGZlG38v6LtSJazXKTg=/0x0:1920x1080/984x0/smart/filters:strip_icc()/i.s3.glbimg.com/v1/AUTH_59edd422c0c84a879bd37670ae4f538a/internal_photos/bs/2023/w/K/AUKdzgSoWETRKMY4PFPQ/antafona.01-frame-452.jpeg\n",
      "https://s2-g1.glbimg.com/h4dhVLFld2nLKVSUlH4fEWWOMu0=/0x0:1000x558/984x0/smart/filters:strip_icc()/i.s3.glbimg.com/v1/AUTH_59edd422c0c84a879bd37670ae4f538a/internal_photos/bs/2023/S/y/ZyEBfYTJuoOieMPiGfAg/tuvalu.jpg\n",
      "https://static.poder360.com.br/2024/08/antonio-guterres-tonga-26ago2024-848x477.jpg\n",
      "https://midias.correiobraziliense.com.br/_midias/jpg/2024/08/27/675x450/1_guterres-39627115.jpg?20240827094536?20240827094536\n"
     ]
    }
   ],
   "source": [
    "for el in newssource.all_images:\n",
    "    print(el.imageUrl)"
   ]
  }
 ],
 "metadata": {
  "kernelspec": {
   "display_name": "Python 3",
   "language": "python",
   "name": "python3"
  },
  "language_info": {
   "codemirror_mode": {
    "name": "ipython",
    "version": 3
   },
   "file_extension": ".py",
   "mimetype": "text/x-python",
   "name": "python",
   "nbconvert_exporter": "python",
   "pygments_lexer": "ipython3",
   "version": "3.12.0"
  }
 },
 "nbformat": 4,
 "nbformat_minor": 2
}
