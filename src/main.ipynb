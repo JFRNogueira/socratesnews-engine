{
 "cells": [
  {
   "cell_type": "code",
   "execution_count": 6,
   "metadata": {},
   "outputs": [],
   "source": [
    "import requests\n",
    "from bs4 import BeautifulSoup\n",
    "from datetime import datetime, timedelta\n",
    "import json\n",
    "from dotenv import load_dotenv\n",
    "import os\n",
    "\n",
    "load_dotenv()\n",
    "API_URL = os.getenv(\"API_URL\")\n",
    "\n",
    "%run \"./news_source/google_alert_xml.ipynb\" import GoogleAlertXml"
   ]
  },
  {
   "cell_type": "code",
   "execution_count": 7,
   "metadata": {},
   "outputs": [
    {
     "name": "stdout",
     "output_type": "stream",
     "text": [
      "https://www.correiodopovo.com.br/esportes/gr%25C3%25AAmio/gr%25C3%25AAmio-crici%25C3%25BAma-negocia-contrata%25C3%25A7%25C3%25A3o-de-jhonata-robert-1.1523822\n",
      "https://vasco.com.br/vasco/daniel-brito-e-o-novo-head-scout-do-vasco-da-gama/\n",
      "https://oglobo.globo.com/esportes/futebol/vasco/noticia/2024/08/16/onde-estao-os-jogadores-do-vasco-da-ultima-vitoria-em-criciuma-em-2022.ghtml\n",
      "https://www.ligadonosul.com.br/esportes/pedro-rocha-serginho-werik-popo-e-dudu-sao-os-novos-reforcos-do-criciuma-para-a-temporada-da-serie-a/\n",
      "https://www.engeplus.com.br/noticia/esportes/2024/trio-de-minas-gerais-apita-confronto-entre-criciuma-e-vasco\n",
      "https://esportenewsmundo.com.br/fortaleza-anuncia-emprestimos-de-pedro-rocha-e-dudu-ao-criciuma/\n",
      "https://diarinho.net/materia/655365/Criciuma-recebe-o-Vasco-neste-domingo\n",
      "https://portallitoralsul.com.br/video-perseguicao-tiroteio-um-baleado-e-um-preso-no-centro-de-criciuma/\n",
      "https://www.jdv.com.br/futebol-criciuma-anuncia-pacotao-de-reforcos-pa/\n",
      "https://icaranews.com.br/trio-de-minas-gerais-vai-apitar-criciuma-x-vasco/\n",
      "https://radioararangua.com.br/joao-lucas-o-jornalista-que-eternizou-em-livro-a-geracao-do-criciuma-e-c-campea-da-copa-do-brasil-e-destaque-na-libertadores/\n",
      "https://onefootball.com/es/noticias/voltando-de-suspensao-fellipe-mateus-projeta-criciuma-x-vasco-39902863\n",
      "https://fcf.com.br/finalistas-do-catarinense-sub-15-a-serao-conhecidos-neste-fim-de-semana/\n"
     ]
    }
   ],
   "source": [
    "url = f'{API_URL}/api/newssource'\n",
    "browsers = {'User-Agent': \"Mozilla/5.0 (Windows NT 10.0; Win64; x64) AppleWebKit/537.36 (KHTML, like Gecko) Chrome / 86.0.4240.198Safari / 537.36\"}\n",
    "response = requests.get(url, headers = browsers)\n",
    "if response.status_code != 200:\n",
    "    print('Erro na requisição.')\n",
    "\n",
    "newsSource = json.loads(response.content)\n",
    "googleAlertXml = None\n",
    "for ns in [newsSource[12]]:\n",
    "    googleAlertXml = GoogleAlertXml(ns['newsSource'], ns['sectionId'], ns['sectionName'], ns['sectionArr'], ns['tags'])\n",
    "    \n",
    "# for news in googleAlertXml.news_data:\n",
    "#     print(news.url)\n",
    "\n"
   ]
  },
  {
   "cell_type": "code",
   "execution_count": null,
   "metadata": {},
   "outputs": [],
   "source": []
  }
 ],
 "metadata": {
  "kernelspec": {
   "display_name": "Python 3",
   "language": "python",
   "name": "python3"
  },
  "language_info": {
   "codemirror_mode": {
    "name": "ipython",
    "version": 3
   },
   "file_extension": ".py",
   "mimetype": "text/x-python",
   "name": "python",
   "nbconvert_exporter": "python",
   "pygments_lexer": "ipython3",
   "version": "3.12.0"
  }
 },
 "nbformat": 4,
 "nbformat_minor": 2
}
