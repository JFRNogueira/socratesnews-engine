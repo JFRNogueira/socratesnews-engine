{
 "cells": [
  {
   "cell_type": "markdown",
   "metadata": {},
   "source": [
    "# Jornal Sócrates - Jornalista\n"
   ]
  },
  {
   "cell_type": "code",
   "execution_count": 9,
   "metadata": {},
   "outputs": [
    {
     "ename": "AttributeError",
     "evalue": "'range' object has no attribute 'tolist'",
     "output_type": "error",
     "traceback": [
      "\u001b[1;31m---------------------------------------------------------------------------\u001b[0m",
      "\u001b[1;31mAttributeError\u001b[0m                            Traceback (most recent call last)",
      "\u001b[1;32mc:\\jn\\news\\socratesnews-engine\\src\\main.ipynb Célula 2\u001b[0m line \u001b[0;36m2\n\u001b[0;32m      <a href='vscode-notebook-cell:/c%3A/jn/news/socratesnews-engine/src/main.ipynb#W1sZmlsZQ%3D%3D?line=5'>6</a>\u001b[0m get_ipython()\u001b[39m.\u001b[39mrun_line_magic(\u001b[39m'\u001b[39m\u001b[39mrun\u001b[39m\u001b[39m'\u001b[39m, \u001b[39m'\u001b[39m\u001b[39m\"\u001b[39m\u001b[39m./news_source/google_news.ipynb\u001b[39m\u001b[39m\"\u001b[39m\u001b[39m import GoogleNews\u001b[39m\u001b[39m'\u001b[39m)\n\u001b[0;32m      <a href='vscode-notebook-cell:/c%3A/jn/news/socratesnews-engine/src/main.ipynb#W1sZmlsZQ%3D%3D?line=8'>9</a>\u001b[0m \u001b[39m# %run \"./entretenimento/entretenimento_themes.ipynb\" import EntretenimentoThemes\u001b[39;00m\n\u001b[0;32m     <a href='vscode-notebook-cell:/c%3A/jn/news/socratesnews-engine/src/main.ipynb#W1sZmlsZQ%3D%3D?line=9'>10</a>\u001b[0m \u001b[39m# %run \"./section/section.ipynb\" import Section\u001b[39;00m\n\u001b[0;32m     <a href='vscode-notebook-cell:/c%3A/jn/news/socratesnews-engine/src/main.ipynb#W1sZmlsZQ%3D%3D?line=10'>11</a>\u001b[0m \u001b[39m# %run \"./utils/datehelper.ipynb\" import DateHelpers\u001b[39;00m\n\u001b[1;32m   (...)\u001b[0m\n\u001b[0;32m     <a href='vscode-notebook-cell:/c%3A/jn/news/socratesnews-engine/src/main.ipynb#W1sZmlsZQ%3D%3D?line=16'>17</a>\u001b[0m \u001b[39m# load_dotenv()\u001b[39;00m\n\u001b[0;32m     <a href='vscode-notebook-cell:/c%3A/jn/news/socratesnews-engine/src/main.ipynb#W1sZmlsZQ%3D%3D?line=17'>18</a>\u001b[0m \u001b[39m# API_URL = os.getenv(\"API_URL\")\u001b[39;00m\n\u001b[1;32m---> <a href='vscode-notebook-cell:/c%3A/jn/news/socratesnews-engine/src/main.ipynb#W1sZmlsZQ%3D%3D?line=20'>21</a>\u001b[0m a \u001b[39m=\u001b[39m \u001b[39mrange\u001b[39;49m(\u001b[39m10\u001b[39;49m)\u001b[39m.\u001b[39;49mtolist()\u001b[39m.\u001b[39mapply(\u001b[39mlambda\u001b[39;00m x: \u001b[39mf\u001b[39m\u001b[39m'\u001b[39m\u001b[39mNews \u001b[39m\u001b[39m{\u001b[39;00mx\u001b[39m \u001b[39m\u001b[39m+\u001b[39m\u001b[39m \u001b[39m\u001b[39m1\u001b[39m\u001b[39m}\u001b[39;00m\u001b[39m'\u001b[39m)\n\u001b[0;32m     <a href='vscode-notebook-cell:/c%3A/jn/news/socratesnews-engine/src/main.ipynb#W1sZmlsZQ%3D%3D?line=21'>22</a>\u001b[0m a\n",
      "\u001b[1;31mAttributeError\u001b[0m: 'range' object has no attribute 'tolist'"
     ]
    }
   ],
   "source": [
    "from datetime import datetime, timedelta\n",
    "from dotenv import load_dotenv\n",
    "import os\n",
    "import requests\n",
    "\n",
    "%run \"./news_source/google_news.ipynb\" import GoogleNews\n",
    "\n",
    "\n",
    "# %run \"./entretenimento/entretenimento_themes.ipynb\" import EntretenimentoThemes\n",
    "# %run \"./section/section.ipynb\" import Section\n",
    "# %run \"./utils/datehelper.ipynb\" import DateHelpers\n",
    "# %run \"./news_source/google_alert_xml.ipynb\" import GoogleAlertXml\n",
    "# %run \"./news_source/socratesnews.ipynb\" import SocratesNews\n",
    "# %run \"./infantil/infantil.ipynb\" import Infantil\n",
    "\n",
    "\n",
    "# load_dotenv()\n",
    "# API_URL = os.getenv(\"API_URL\")\n",
    "\n"
   ]
  },
  {
   "cell_type": "code",
   "execution_count": 2,
   "metadata": {},
   "outputs": [],
   "source": [
    "%run \"./brasil/brasil_themes.ipynb\" import BrasilThemes\n",
    "\n",
    "brasil = BrasilThemes()\n",
    "brasil_counter = 5\n",
    "socratesNews_brasil = []\n",
    "counter = 1\n",
    "for t in brasil.themes[:brasil_counter]:\n",
    "    try:\n",
    "        news = GoogleNews(t['url'], \"Brasil\")\n",
    "        socratesNews_brasil.append(news)\n",
    "        print(f'{' ' if counter < 10 else ''}{counter} >> Matéria coletada de {t['url']}')\n",
    "    except:\n",
    "        print(f'{' ' if counter < 10 else ''}{counter} >> Erro em matéria de {t['url']}')\n",
    "    counter += 1\n",
    "\n",
    "clear_output()\n",
    "\n",
    "for news in socratesNews_brasil:\n",
    "    news.create_news_image()\n",
    "    \n",
    "for news in socratesNews_brasil:\n",
    "    news.save_news()\n"
   ]
  },
  {
   "cell_type": "code",
   "execution_count": 4,
   "metadata": {},
   "outputs": [],
   "source": [
    "%run \"./mundo/mundo_themes.ipynb\" import MundoThemes\n",
    "\n",
    "mundo = MundoThemes()\n",
    "mundo_counter = 20\n",
    "socratesNews_mundo = []\n",
    "counter = 1\n",
    "for t in mundo.themes[:mundo_counter]:\n",
    "    try:\n",
    "        news = GoogleNews(t['url'], \"Mundo\")\n",
    "        socratesNews_mundo.append(news)\n",
    "        print(f'{' ' if counter < 10 else ''}{counter} >> Matéria coletada de {t['url']}')\n",
    "    except:\n",
    "        print(f'{' ' if counter < 10 else ''}{counter} >> Erro em matéria de {t['url']}')\n",
    "    counter += 1\n",
    "clear_output()\n",
    "\n",
    "for news in socratesNews_mundo:\n",
    "    news.create_news_image()\n",
    "    \n",
    "for news in socratesNews_mundo:\n",
    "    news.save_news()"
   ]
  },
  {
   "cell_type": "code",
   "execution_count": null,
   "metadata": {},
   "outputs": [],
   "source": [
    "# Seção Cidades\n",
    "# Seção Política"
   ]
  },
  {
   "cell_type": "code",
   "execution_count": 3,
   "metadata": {},
   "outputs": [],
   "source": [
    "%run \"./economia/economia_themes.ipynb\" import EconomiaThemes\n",
    "\n",
    "economia = EconomiaThemes()\n",
    "economia_counter = 20\n",
    "socratesNews_economia = []\n",
    "counter = 1\n",
    "for t in economia.themes[:economia_counter]:\n",
    "    try:\n",
    "        news = GoogleNews(t['url'], \"Economia\")\n",
    "        socratesNews_economia.append(news)\n",
    "        print(f'{' ' if counter < 10 else ''}{counter} >> Matéria coletada de {t['url']}')\n",
    "    except:\n",
    "        print(f'{' ' if counter < 10 else ''}{counter} >> Erro em matéria de {t['url']}')\n",
    "    counter += 1\n",
    "clear_output()\n",
    "\n",
    "for news in socratesNews_economia:\n",
    "    news.create_news_image()\n",
    "    \n",
    "for news in socratesNews_economia:\n",
    "    news.save_news()"
   ]
  },
  {
   "cell_type": "code",
   "execution_count": null,
   "metadata": {},
   "outputs": [],
   "source": [
    "# Seção Empreendedorismo\n",
    "# Seção Cidades\n",
    "# Seção Cultura e Artes"
   ]
  },
  {
   "cell_type": "code",
   "execution_count": null,
   "metadata": {},
   "outputs": [],
   "source": [
    "# entretenimento = EntretenimentoThemes()\n",
    "# entretenimento_counter = 10\n",
    "# socratesNews_entretenimento = []\n",
    "# for t in entretenimento.themes[:entretenimento_counter]:\n",
    "#     news = GoogleNews(t['url'], \"Entretenimento\")\n",
    "#     socratesNews_entretenimento.append(news)\n",
    "\n",
    "# for news in socratesNews_entretenimento:\n",
    "#     news.create_news_image()\n",
    "    \n",
    "# for news in socratesNews_entretenimento:\n",
    "#     news.save_news()"
   ]
  },
  {
   "cell_type": "code",
   "execution_count": 6,
   "metadata": {},
   "outputs": [
    {
     "name": "stdout",
     "output_type": "stream",
     "text": [
      "Problema na seleção da imagem: invalid literal for int() with base 10: ''\n"
     ]
    }
   ],
   "source": [
    "%run \"./cet/cet_themes.ipynb\" import CETThemes\n",
    "\n",
    "cet = CETThemes()\n",
    "cet_counter = 20\n",
    "socratesNews_cet = []\n",
    "counter = 1\n",
    "for t in cet.themes[:cet_counter]:\n",
    "    try:\n",
    "        news = GoogleNews(t['url'], \"C&T\")\n",
    "        socratesNews_cet.append(news)\n",
    "        print(f'{' ' if counter < 10 else ''}{counter} >> Matéria coletada de {t['url']}')\n",
    "    except:\n",
    "        print(f'{' ' if counter < 10 else ''}{counter} >> Erro em matéria de {t['url']}')\n",
    "    counter += 1\n",
    "clear_output()\n",
    "\n",
    "for news in socratesNews_cet:\n",
    "    news.create_news_image()\n",
    "    \n",
    "for news in socratesNews_cet:\n",
    "    news.save_news()"
   ]
  },
  {
   "cell_type": "code",
   "execution_count": null,
   "metadata": {},
   "outputs": [],
   "source": [
    "# Seção Saúde e bem estar\n",
    "# Seção Educação\n",
    "# Seção Saúde\n",
    "# Seção Meio ambiente\n",
    "# Seção Oração"
   ]
  },
  {
   "cell_type": "code",
   "execution_count": null,
   "metadata": {},
   "outputs": [],
   "source": [
    "# infantil = Infantil(edition.date, edition.date_str)"
   ]
  },
  {
   "cell_type": "code",
   "execution_count": 4,
   "metadata": {},
   "outputs": [],
   "source": [
    "# esporte = EsporteThemes()\n",
    "# socratesNews_esporte = []\n",
    "# for t in esporte.themes[:6]:\n",
    "#     news = GoogleNews(t['url'], \"Esporte\")\n",
    "#     socratesNews_esporte.append(news)\n",
    "\n",
    "# for news in socratesNews_esporte:\n",
    "#     news.save_news()\n",
    "\n",
    "\n"
   ]
  },
  {
   "cell_type": "code",
   "execution_count": 6,
   "metadata": {},
   "outputs": [],
   "source": [
    "# Conto sobre um herói nacional"
   ]
  }
 ],
 "metadata": {
  "kernelspec": {
   "display_name": "Python 3",
   "language": "python",
   "name": "python3"
  },
  "language_info": {
   "codemirror_mode": {
    "name": "ipython",
    "version": 3
   },
   "file_extension": ".py",
   "mimetype": "text/x-python",
   "name": "python",
   "nbconvert_exporter": "python",
   "pygments_lexer": "ipython3",
   "version": "3.12.0"
  }
 },
 "nbformat": 4,
 "nbformat_minor": 2
}
