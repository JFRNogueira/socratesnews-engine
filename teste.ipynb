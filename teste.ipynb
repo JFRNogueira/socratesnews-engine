{
 "cells": [
  {
   "cell_type": "code",
   "execution_count": 2,
   "metadata": {},
   "outputs": [],
   "source": [
    "import cv2\n",
    "import numpy as np\n",
    "from PIL import Image\n",
    "\n",
    "def keep_black_pixels(input_image_path, output_image_path, threshold=50):\n",
    "    \"\"\"\n",
    "    Mantém apenas pixels próximos ao preto e transforma os demais em branco.\n",
    "    \n",
    "    Parâmetros:\n",
    "        input_image_path (str): Caminho para a imagem de entrada.\n",
    "        output_image_path (str): Caminho para salvar a imagem de saída.\n",
    "        threshold (int): Limiar para considerar pixels como \"próximos ao preto\". Valores maiores que este serão transformados em branco.\n",
    "    \"\"\"\n",
    "    # Carregar a imagem em escala de cinza\n",
    "    img = cv2.imread(input_image_path, cv2.IMREAD_GRAYSCALE)\n",
    "    if img is None:\n",
    "        raise ValueError(f\"Erro ao carregar a imagem: {input_image_path}\")\n",
    "    \n",
    "    # Aplicar o filtro: pixels abaixo ou iguais ao limiar permanecem, outros se tornam brancos (255)\n",
    "    filtered_img = np.where(img <= threshold, 0, 255).astype(np.uint8)\n",
    "    \n",
    "    # Salvar a imagem resultante\n",
    "    cv2.imwrite(output_image_path, filtered_img)\n",
    "    \n",
    "    # Exibir a imagem para visualização (opcional)\n",
    "    Image.open(output_image_path).show()\n",
    "\n",
    "# Exemplo de uso\n",
    "keep_black_pixels('bordado-vivi-input.jpg', 'bordado-vivi-output.jpg', threshold=50)"
   ]
  }
 ],
 "metadata": {
  "kernelspec": {
   "display_name": "Python 3",
   "language": "python",
   "name": "python3"
  },
  "language_info": {
   "codemirror_mode": {
    "name": "ipython",
    "version": 3
   },
   "file_extension": ".py",
   "mimetype": "text/x-python",
   "name": "python",
   "nbconvert_exporter": "python",
   "pygments_lexer": "ipython3",
   "version": "3.12.0"
  }
 },
 "nbformat": 4,
 "nbformat_minor": 2
}
