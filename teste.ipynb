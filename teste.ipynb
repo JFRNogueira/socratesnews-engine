{
 "cells": [
  {
   "cell_type": "code",
   "execution_count": 423,
   "metadata": {},
   "outputs": [],
   "source": [
    "from bs4 import BeautifulSoup\n",
    "import re\n",
    "\n",
    "class OficinaDaNet:\n",
    "\n",
    "    def __init__(self, html):\n",
    "        self.html = html\n",
    "        self.title = self.get_title()\n",
    "        self.text = self.get_text()\n",
    "        self.imageUrl, self.imageText = self.get_image()    \n",
    "\n",
    "\n",
    "    def get_title(self):\n",
    "        try:\n",
    "            title = self.html.find('h1').get_text()\n",
    "            return title.strip()\n",
    "        except:\n",
    "            return None\n",
    "\n",
    "\n",
    "    def get_text(self):\n",
    "        try:\n",
    "            content = \"\"            \n",
    "            contentBody = self.html.find('div', class_='content').find_all('p')\n",
    "            for p in contentBody:\n",
    "                content += p.get_text()\n",
    "                content += \"\\n\"\n",
    "            content = re.sub(r'\\s+', ' ', content).strip()\n",
    "            return content\n",
    "        except:\n",
    "            return None\n",
    "\n",
    "\n",
    "    def get_image(self):\n",
    "        try:\n",
    "            image = self.html.find('div', class_='img_capa')\n",
    "            imageUrl = image.find('img').get('src')\n",
    "            imageText = image.find('img').get('title')\n",
    "            return imageUrl, imageText\n",
    "        except:\n",
    "            return None, None\n"
   ]
  },
  {
   "cell_type": "code",
   "execution_count": 424,
   "metadata": {},
   "outputs": [],
   "source": [
    "import requests\n",
    "from bs4 import BeautifulSoup\n",
    "\n",
    "url = 'https://www.oficinadanet.com.br/inteligencia-artificial/57346-golpe-da-ia-saiba-o-que-e-e-como-evitar-cair'\n",
    "\n",
    "browsers = {'User-Agent': \"Mozilla/5.0 (Windows NT 10.0; Win64; x64) AppleWebKit/537.36 (KHTML, like Gecko) Chrome / 86.0.4240.198Safari / 537.36\"}\n",
    "html_content = requests.get(url, headers = browsers, timeout=5)\n",
    "text = html_content.content.decode('utf-8', errors='ignore')\n",
    "soup = BeautifulSoup(text, 'html.parser')\n",
    "# print(soup.prettify())\n",
    "news = OficinaDaNet(soup)"
   ]
  },
  {
   "cell_type": "code",
   "execution_count": 425,
   "metadata": {},
   "outputs": [
    {
     "data": {
      "text/plain": [
       "'Golpe da IA: Saiba o que é e como evitar cair'"
      ]
     },
     "execution_count": 425,
     "metadata": {},
     "output_type": "execute_result"
    }
   ],
   "source": [
    "news.title"
   ]
  },
  {
   "cell_type": "code",
   "execution_count": 426,
   "metadata": {},
   "outputs": [
    {
     "data": {
      "text/plain": [
       "'A chegada das famosas IA atestam a rápida evolução tecnológica e com elas, os benefícios são os mais diversos. Contudo, com esses benefícios também temos alguns riscos. Um novo golpe que faz uso da Inteligência Artificial vem atingindo milhões de pessoas. O alerta foi feito pelo Starling Bank, um banco exclusivamente digital do Reino Unido, que advertiu sobre o risco crescente de golpes de clonagem de voz usando IA. A clonagem de voz é uma técnica em que a IA consegue replicar a voz de alguém a partir de uma pequena amostra de áudio, como gravações em vídeos ou redes sociais. O Starling Bank revelou que, com apenas três segundos de áudio, golpistas podem reproduzir a voz de uma pessoa de forma tão realista que é difícil distinguir o falso do verdadeiro. Isso é algo realmente muito preocupante, pois, os criminosos podem identificar pessoas próximas da vítima e se passar por elas para solicitar dinheiro.Uma pesquisa do Starling Bank com mais de 3.000 adultos mostrou que mais de 25% dos entrevistados relataram ter sido alvo de golpes de clonagem de voz por IA nos últimos 12 meses. Além disso, 46% dos participantes desconheciam completamente esse tipo de golpe.O dado mais preocupante é que 8% das pessoas entrevistadas afirmaram que enviariam dinheiro a um amigo ou parente, mesmo que a ligação parecesse suspeita.Muitos não imaginam o perigo de compartilhar suas vozes online. Essa vulnerabilidade é amplificada pelas redes sociais, onde frequentemente as pessoas postam momentos pessoais sem maiores preocupações. O Starling Bank sugere algumas medidas de proteção para reduzir o risco de clonagem de voz. Uma delas é o estabelecimento de uma \"frase segura\" entre amigos e familiares. Essa frase deve ser simples, fácil de lembrar e diferente das senhas comuns. Em uma ligação suspeita, ela servirá para confirmar a identidade do da pessoa que fez a ligação.Entretanto, é importante evitar o envio dessa frase por mensagem de texto, pois isso pode facilitar o trabalho dos golpistas. Se for necessário compartilhá-la dessa maneira, a mensagem deve ser apagada imediatamente após ser vista.Com o avanço da IA, o uso inadequado dessas ferramentas também cresce. Neste ano, a OpenAI, criadora do ChatGPT, desenvolveu uma ferramenta de replicação de voz chamada Voice Engine, mas optou por não disponibilizá-la ao público devido ao seu potencial uso para golpes.'"
      ]
     },
     "execution_count": 426,
     "metadata": {},
     "output_type": "execute_result"
    }
   ],
   "source": [
    "news.text"
   ]
  },
  {
   "cell_type": "code",
   "execution_count": 427,
   "metadata": {},
   "outputs": [
    {
     "data": {
      "text/plain": [
       "'https://www.oficinadanet.com.br/media/post/57346/1200/ai-generated-8771579-1920.jpg'"
      ]
     },
     "execution_count": 427,
     "metadata": {},
     "output_type": "execute_result"
    }
   ],
   "source": [
    "news.imageUrl"
   ]
  },
  {
   "cell_type": "code",
   "execution_count": 428,
   "metadata": {},
   "outputs": [
    {
     "data": {
      "text/plain": [
       "'Robô, imagem: Pixabay/Reprodução'"
      ]
     },
     "execution_count": 428,
     "metadata": {},
     "output_type": "execute_result"
    }
   ],
   "source": [
    "news.imageText"
   ]
  }
 ],
 "metadata": {
  "kernelspec": {
   "display_name": "Python 3",
   "language": "python",
   "name": "python3"
  },
  "language_info": {
   "codemirror_mode": {
    "name": "ipython",
    "version": 3
   },
   "file_extension": ".py",
   "mimetype": "text/x-python",
   "name": "python",
   "nbconvert_exporter": "python",
   "pygments_lexer": "ipython3",
   "version": "3.12.0"
  }
 },
 "nbformat": 4,
 "nbformat_minor": 2
}
